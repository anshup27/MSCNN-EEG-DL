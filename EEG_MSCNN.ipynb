{
 "cells": [
  {
   "cell_type": "markdown",
   "metadata": {
    "id": "x_5wKiVyBTzL"
   },
   "source": [
    "#Comparing Feature Extraction of EEGNet & MSTANN\n"
   ]
  },
  {
   "cell_type": "markdown",
   "metadata": {
    "id": "O-3Lg9veBge0"
   },
   "source": [
    "#Extracting Data"
   ]
  },
  {
   "cell_type": "markdown",
   "metadata": {
    "id": "W4JrI64nBl52"
   },
   "source": [
    "##Downloading BCI Competition IV 2a Dataset"
   ]
  },
  {
   "cell_type": "code",
   "execution_count": 1,
   "metadata": {
    "colab": {
     "base_uri": "https://localhost:8080/"
    },
    "id": "_6jNZi8rBNjN",
    "outputId": "65468f04-678b-4585-8e1f-919ede13eec9"
   },
   "outputs": [
    {
     "name": "stdout",
     "output_type": "stream",
     "text": [
      "--2024-11-14 16:28:02--  https://www.bbci.de/competition/download/competition_iv/BCICIV_2a_gdf.zip\n",
      "Resolving www.bbci.de (www.bbci.de)... 130.149.80.149\n",
      "Connecting to www.bbci.de (www.bbci.de)|130.149.80.149|:443... connected.\n",
      "HTTP request sent, awaiting response... 200 OK\n",
      "Length: 439968864 (420M) [application/zip]\n",
      "Saving to: ‘BCICIV_2a_gdf.zip’\n",
      "\n",
      "BCICIV_2a_gdf.zip   100%[===================>] 419.59M  22.0MB/s    in 21s     \n",
      "\n",
      "2024-11-14 16:28:24 (20.0 MB/s) - ‘BCICIV_2a_gdf.zip’ saved [439968864/439968864]\n",
      "\n"
     ]
    }
   ],
   "source": [
    "!wget https://www.bbci.de/competition/download/competition_iv/BCICIV_2a_gdf.zip"
   ]
  },
  {
   "cell_type": "code",
   "execution_count": 2,
   "metadata": {
    "id": "5DbydQswB27q"
   },
   "outputs": [],
   "source": [
    "!mkdir -p /content/cleaned_data/"
   ]
  },
  {
   "cell_type": "code",
   "execution_count": 3,
   "metadata": {
    "id": "50hgj12yB54U"
   },
   "outputs": [],
   "source": [
    "%%capture\n",
    "!unzip /content/BCICIV_2a_gdf.zip -d raw_data"
   ]
  },
  {
   "cell_type": "markdown",
   "metadata": {
    "id": "Y_mkff9aB-9w"
   },
   "source": [
    "#Installing Packages"
   ]
  },
  {
   "cell_type": "code",
   "execution_count": 4,
   "metadata": {
    "id": "mqHVmwYyCBsB"
   },
   "outputs": [],
   "source": [
    "%%capture\n",
    "!pip install mne"
   ]
  },
  {
   "cell_type": "code",
   "execution_count": 5,
   "metadata": {
    "id": "ueJFbf8KCCPw"
   },
   "outputs": [],
   "source": [
    "%%capture\n",
    "!pip install torch-summary"
   ]
  },
  {
   "cell_type": "code",
   "execution_count": 6,
   "metadata": {
    "id": "EXIevTlXGl-z"
   },
   "outputs": [],
   "source": [
    "%%capture\n",
    "!pip install captum"
   ]
  },
  {
   "cell_type": "markdown",
   "metadata": {
    "id": "crxgIV9ICD2T"
   },
   "source": [
    "#Libraries Used"
   ]
  },
  {
   "cell_type": "code",
   "execution_count": 7,
   "metadata": {
    "id": "CEp96MytCGei"
   },
   "outputs": [],
   "source": [
    "import os\n",
    "import mne\n",
    "import math\n",
    "import copy\n",
    "import gdown\n",
    "import random\n",
    "import scipy.io\n",
    "import numpy as np\n",
    "import pandas as pd\n",
    "import seaborn as sn\n",
    "import matplotlib.pyplot as plt\n",
    "from captum.attr import DeepLift\n",
    "\n",
    "# Torch\n",
    "import torch\n",
    "import torch.nn as nn\n",
    "import torch.optim as optim\n",
    "import torch.nn.functional as F\n",
    "from torchsummary import summary\n",
    "from torch.autograd import Variable\n",
    "from torch.utils.data import DataLoader, TensorDataset, random_split\n",
    "\n",
    "# Scikit-Learn\n",
    "from sklearn.manifold import TSNE\n",
    "from sklearn.decomposition import PCA\n",
    "from sklearn.feature_selection import mutual_info_classif\n",
    "from sklearn.metrics import confusion_matrix, accuracy_score\n",
    "from sklearn.model_selection import train_test_split"
   ]
  },
  {
   "cell_type": "markdown",
   "metadata": {
    "id": "nn8IHP2_CQbH"
   },
   "source": [
    "# Building Dataset"
   ]
  },
  {
   "cell_type": "code",
   "execution_count": 8,
   "metadata": {
    "id": "JFtUH89-G48b"
   },
   "outputs": [],
   "source": [
    "!mkdir -p /content/cleaned_data/first_session\n",
    "!mkdir -p /content/cleaned_data/second_session"
   ]
  },
  {
   "cell_type": "markdown",
   "metadata": {
    "id": "f6Bmm_acGc4g"
   },
   "source": [
    "##First Session"
   ]
  },
  {
   "cell_type": "code",
   "execution_count": 10,
   "metadata": {
    "colab": {
     "base_uri": "https://localhost:8080/"
    },
    "id": "X6ViqHGaCUWY",
    "outputId": "f6f5051b-4636-4d2f-9505-74baa847d75c"
   },
   "outputs": [
    {
     "name": "stdout",
     "output_type": "stream",
     "text": [
      "Extracting EDF parameters from /content/raw_data/A05T.gdf...\n",
      "GDF file detected\n",
      "Setting channel info structure...\n",
      "Could not determine channel type of the following channels, they will be set as EEG:\n",
      "EEG-Fz, EEG, EEG, EEG, EEG, EEG, EEG, EEG-C3, EEG, EEG-Cz, EEG, EEG-C4, EEG, EEG, EEG, EEG, EEG, EEG, EEG, EEG-Pz, EEG, EEG\n",
      "Creating raw.info structure...\n",
      "Reading 0 ... 686119  =      0.000 ...  2744.476 secs...\n"
     ]
    },
    {
     "name": "stderr",
     "output_type": "stream",
     "text": [
      "/usr/lib/python3.10/contextlib.py:142: RuntimeWarning: Channel names are not unique, found duplicates for: {'EEG'}. Applying running numbers for duplicates.\n",
      "  next(self.gen)\n"
     ]
    },
    {
     "name": "stdout",
     "output_type": "stream",
     "text": [
      "Filtering raw data in 1 contiguous segment\n",
      "Setting up band-pass filter from 4 - 40 Hz\n",
      "\n",
      "IIR filter parameters\n",
      "---------------------\n",
      "Butterworth bandpass zero-phase (two-pass forward and reverse) non-causal filter:\n",
      "- Filter order 16 (effective, after forward-backward)\n",
      "- Cutoffs at 4.00, 40.00 Hz: -6.02, -6.02 dB\n",
      "\n",
      "Filtering raw data in 1 contiguous segment\n",
      "Setting up band-stop filter from 49 - 51 Hz\n",
      "\n",
      "FIR filter parameters\n",
      "---------------------\n",
      "Designing a one-pass, zero-phase, non-causal bandstop filter:\n",
      "- Windowed time-domain design (firwin) method\n",
      "- Hamming window with 0.0194 passband ripple and 53 dB stopband attenuation\n",
      "- Lower passband edge: 49.38\n",
      "- Lower transition bandwidth: 0.50 Hz (-6 dB cutoff frequency: 49.12 Hz)\n",
      "- Upper passband edge: 50.62 Hz\n",
      "- Upper transition bandwidth: 0.50 Hz (-6 dB cutoff frequency: 50.88 Hz)\n",
      "- Filter length: 1651 samples (6.604 s)\n",
      "\n",
      "Overwriting existing file.\n",
      "Writing /content/cleaned_data/first_session/A05T.fif\n"
     ]
    },
    {
     "name": "stderr",
     "output_type": "stream",
     "text": [
      "[Parallel(n_jobs=1)]: Done  17 tasks      | elapsed:    0.4s\n",
      "<ipython-input-10-52d09285b9e3>:27: RuntimeWarning: This filename (/content/cleaned_data/first_session/A05T.fif) does not conform to MNE naming conventions. All raw files should end with raw.fif, raw_sss.fif, raw_tsss.fif, _meg.fif, _eeg.fif, _ieeg.fif, raw.fif.gz, raw_sss.fif.gz, raw_tsss.fif.gz, _meg.fif.gz, _eeg.fif.gz or _ieeg.fif.gz\n",
      "  raw.save(new_file_path, overwrite=True)\n"
     ]
    },
    {
     "name": "stdout",
     "output_type": "stream",
     "text": [
      "Closing /content/cleaned_data/first_session/A05T.fif\n",
      "[done]\n",
      "Extracting EDF parameters from /content/raw_data/A03T.gdf...\n",
      "GDF file detected\n",
      "Setting channel info structure...\n",
      "Could not determine channel type of the following channels, they will be set as EEG:\n",
      "EEG-Fz, EEG, EEG, EEG, EEG, EEG, EEG, EEG-C3, EEG, EEG-Cz, EEG, EEG-C4, EEG, EEG, EEG, EEG, EEG, EEG, EEG, EEG-Pz, EEG, EEG\n",
      "Creating raw.info structure...\n",
      "Reading 0 ... 660529  =      0.000 ...  2642.116 secs...\n"
     ]
    },
    {
     "name": "stderr",
     "output_type": "stream",
     "text": [
      "/usr/lib/python3.10/contextlib.py:142: RuntimeWarning: Channel names are not unique, found duplicates for: {'EEG'}. Applying running numbers for duplicates.\n",
      "  next(self.gen)\n"
     ]
    },
    {
     "name": "stdout",
     "output_type": "stream",
     "text": [
      "Filtering raw data in 1 contiguous segment\n",
      "Setting up band-pass filter from 4 - 40 Hz\n",
      "\n",
      "IIR filter parameters\n",
      "---------------------\n",
      "Butterworth bandpass zero-phase (two-pass forward and reverse) non-causal filter:\n",
      "- Filter order 16 (effective, after forward-backward)\n",
      "- Cutoffs at 4.00, 40.00 Hz: -6.02, -6.02 dB\n",
      "\n",
      "Filtering raw data in 1 contiguous segment\n",
      "Setting up band-stop filter from 49 - 51 Hz\n",
      "\n",
      "FIR filter parameters\n",
      "---------------------\n",
      "Designing a one-pass, zero-phase, non-causal bandstop filter:\n",
      "- Windowed time-domain design (firwin) method\n",
      "- Hamming window with 0.0194 passband ripple and 53 dB stopband attenuation\n",
      "- Lower passband edge: 49.38\n",
      "- Lower transition bandwidth: 0.50 Hz (-6 dB cutoff frequency: 49.12 Hz)\n",
      "- Upper passband edge: 50.62 Hz\n",
      "- Upper transition bandwidth: 0.50 Hz (-6 dB cutoff frequency: 50.88 Hz)\n",
      "- Filter length: 1651 samples (6.604 s)\n",
      "\n",
      "Overwriting existing file.\n",
      "Writing /content/cleaned_data/first_session/A03T.fif\n"
     ]
    },
    {
     "name": "stderr",
     "output_type": "stream",
     "text": [
      "[Parallel(n_jobs=1)]: Done  17 tasks      | elapsed:    0.4s\n",
      "<ipython-input-10-52d09285b9e3>:27: RuntimeWarning: This filename (/content/cleaned_data/first_session/A03T.fif) does not conform to MNE naming conventions. All raw files should end with raw.fif, raw_sss.fif, raw_tsss.fif, _meg.fif, _eeg.fif, _ieeg.fif, raw.fif.gz, raw_sss.fif.gz, raw_tsss.fif.gz, _meg.fif.gz, _eeg.fif.gz or _ieeg.fif.gz\n",
      "  raw.save(new_file_path, overwrite=True)\n"
     ]
    },
    {
     "name": "stdout",
     "output_type": "stream",
     "text": [
      "Closing /content/cleaned_data/first_session/A03T.fif\n",
      "[done]\n",
      "Extracting EDF parameters from /content/raw_data/A06T.gdf...\n",
      "GDF file detected\n",
      "Setting channel info structure...\n",
      "Could not determine channel type of the following channels, they will be set as EEG:\n",
      "EEG-Fz, EEG, EEG, EEG, EEG, EEG, EEG, EEG-C3, EEG, EEG-Cz, EEG, EEG-C4, EEG, EEG, EEG, EEG, EEG, EEG, EEG, EEG-Pz, EEG, EEG\n",
      "Creating raw.info structure...\n",
      "Reading 0 ... 678979  =      0.000 ...  2715.916 secs...\n"
     ]
    },
    {
     "name": "stderr",
     "output_type": "stream",
     "text": [
      "/usr/lib/python3.10/contextlib.py:142: RuntimeWarning: Channel names are not unique, found duplicates for: {'EEG'}. Applying running numbers for duplicates.\n",
      "  next(self.gen)\n"
     ]
    },
    {
     "name": "stdout",
     "output_type": "stream",
     "text": [
      "Filtering raw data in 1 contiguous segment\n",
      "Setting up band-pass filter from 4 - 40 Hz\n",
      "\n",
      "IIR filter parameters\n",
      "---------------------\n",
      "Butterworth bandpass zero-phase (two-pass forward and reverse) non-causal filter:\n",
      "- Filter order 16 (effective, after forward-backward)\n",
      "- Cutoffs at 4.00, 40.00 Hz: -6.02, -6.02 dB\n",
      "\n",
      "Filtering raw data in 1 contiguous segment\n",
      "Setting up band-stop filter from 49 - 51 Hz\n",
      "\n",
      "FIR filter parameters\n",
      "---------------------\n",
      "Designing a one-pass, zero-phase, non-causal bandstop filter:\n",
      "- Windowed time-domain design (firwin) method\n",
      "- Hamming window with 0.0194 passband ripple and 53 dB stopband attenuation\n",
      "- Lower passband edge: 49.38\n",
      "- Lower transition bandwidth: 0.50 Hz (-6 dB cutoff frequency: 49.12 Hz)\n",
      "- Upper passband edge: 50.62 Hz\n",
      "- Upper transition bandwidth: 0.50 Hz (-6 dB cutoff frequency: 50.88 Hz)\n",
      "- Filter length: 1651 samples (6.604 s)\n",
      "\n",
      "Overwriting existing file.\n",
      "Writing /content/cleaned_data/first_session/A06T.fif\n"
     ]
    },
    {
     "name": "stderr",
     "output_type": "stream",
     "text": [
      "[Parallel(n_jobs=1)]: Done  17 tasks      | elapsed:    0.4s\n",
      "<ipython-input-10-52d09285b9e3>:27: RuntimeWarning: This filename (/content/cleaned_data/first_session/A06T.fif) does not conform to MNE naming conventions. All raw files should end with raw.fif, raw_sss.fif, raw_tsss.fif, _meg.fif, _eeg.fif, _ieeg.fif, raw.fif.gz, raw_sss.fif.gz, raw_tsss.fif.gz, _meg.fif.gz, _eeg.fif.gz or _ieeg.fif.gz\n",
      "  raw.save(new_file_path, overwrite=True)\n"
     ]
    },
    {
     "name": "stdout",
     "output_type": "stream",
     "text": [
      "Closing /content/cleaned_data/first_session/A06T.fif\n",
      "[done]\n",
      "Extracting EDF parameters from /content/raw_data/A04T.gdf...\n",
      "GDF file detected\n",
      "Setting channel info structure...\n",
      "Could not determine channel type of the following channels, they will be set as EEG:\n",
      "EEG-Fz, EEG, EEG, EEG, EEG, EEG, EEG, EEG-C3, EEG, EEG-Cz, EEG, EEG-C4, EEG, EEG, EEG, EEG, EEG, EEG, EEG, EEG-Pz, EEG, EEG\n",
      "Creating raw.info structure...\n",
      "Reading 0 ... 600914  =      0.000 ...  2403.656 secs...\n"
     ]
    },
    {
     "name": "stderr",
     "output_type": "stream",
     "text": [
      "/usr/lib/python3.10/contextlib.py:142: RuntimeWarning: Channel names are not unique, found duplicates for: {'EEG'}. Applying running numbers for duplicates.\n",
      "  next(self.gen)\n"
     ]
    },
    {
     "name": "stdout",
     "output_type": "stream",
     "text": [
      "Filtering raw data in 1 contiguous segment\n",
      "Setting up band-pass filter from 4 - 40 Hz\n",
      "\n",
      "IIR filter parameters\n",
      "---------------------\n",
      "Butterworth bandpass zero-phase (two-pass forward and reverse) non-causal filter:\n",
      "- Filter order 16 (effective, after forward-backward)\n",
      "- Cutoffs at 4.00, 40.00 Hz: -6.02, -6.02 dB\n",
      "\n",
      "Filtering raw data in 1 contiguous segment\n",
      "Setting up band-stop filter from 49 - 51 Hz\n",
      "\n",
      "FIR filter parameters\n",
      "---------------------\n",
      "Designing a one-pass, zero-phase, non-causal bandstop filter:\n",
      "- Windowed time-domain design (firwin) method\n",
      "- Hamming window with 0.0194 passband ripple and 53 dB stopband attenuation\n",
      "- Lower passband edge: 49.38\n",
      "- Lower transition bandwidth: 0.50 Hz (-6 dB cutoff frequency: 49.12 Hz)\n",
      "- Upper passband edge: 50.62 Hz\n",
      "- Upper transition bandwidth: 0.50 Hz (-6 dB cutoff frequency: 50.88 Hz)\n",
      "- Filter length: 1651 samples (6.604 s)\n",
      "\n"
     ]
    },
    {
     "name": "stderr",
     "output_type": "stream",
     "text": [
      "[Parallel(n_jobs=1)]: Done  17 tasks      | elapsed:    0.6s\n"
     ]
    },
    {
     "name": "stdout",
     "output_type": "stream",
     "text": [
      "Overwriting existing file.\n",
      "Writing /content/cleaned_data/first_session/A04T.fif\n"
     ]
    },
    {
     "name": "stderr",
     "output_type": "stream",
     "text": [
      "<ipython-input-10-52d09285b9e3>:27: RuntimeWarning: This filename (/content/cleaned_data/first_session/A04T.fif) does not conform to MNE naming conventions. All raw files should end with raw.fif, raw_sss.fif, raw_tsss.fif, _meg.fif, _eeg.fif, _ieeg.fif, raw.fif.gz, raw_sss.fif.gz, raw_tsss.fif.gz, _meg.fif.gz, _eeg.fif.gz or _ieeg.fif.gz\n",
      "  raw.save(new_file_path, overwrite=True)\n"
     ]
    },
    {
     "name": "stdout",
     "output_type": "stream",
     "text": [
      "Closing /content/cleaned_data/first_session/A04T.fif\n",
      "[done]\n",
      "Extracting EDF parameters from /content/raw_data/A08T.gdf...\n",
      "GDF file detected\n",
      "Setting channel info structure...\n",
      "Could not determine channel type of the following channels, they will be set as EEG:\n",
      "EEG-Fz, EEG, EEG, EEG, EEG, EEG, EEG, EEG-C3, EEG, EEG-Cz, EEG, EEG-C4, EEG, EEG, EEG, EEG, EEG, EEG, EEG, EEG-Pz, EEG, EEG\n",
      "Creating raw.info structure...\n",
      "Reading 0 ... 675269  =      0.000 ...  2701.076 secs...\n"
     ]
    },
    {
     "name": "stderr",
     "output_type": "stream",
     "text": [
      "/usr/lib/python3.10/contextlib.py:142: RuntimeWarning: Channel names are not unique, found duplicates for: {'EEG'}. Applying running numbers for duplicates.\n",
      "  next(self.gen)\n"
     ]
    },
    {
     "name": "stdout",
     "output_type": "stream",
     "text": [
      "Filtering raw data in 1 contiguous segment\n",
      "Setting up band-pass filter from 4 - 40 Hz\n",
      "\n",
      "IIR filter parameters\n",
      "---------------------\n",
      "Butterworth bandpass zero-phase (two-pass forward and reverse) non-causal filter:\n",
      "- Filter order 16 (effective, after forward-backward)\n",
      "- Cutoffs at 4.00, 40.00 Hz: -6.02, -6.02 dB\n",
      "\n",
      "Filtering raw data in 1 contiguous segment\n",
      "Setting up band-stop filter from 49 - 51 Hz\n",
      "\n",
      "FIR filter parameters\n",
      "---------------------\n",
      "Designing a one-pass, zero-phase, non-causal bandstop filter:\n",
      "- Windowed time-domain design (firwin) method\n",
      "- Hamming window with 0.0194 passband ripple and 53 dB stopband attenuation\n",
      "- Lower passband edge: 49.38\n",
      "- Lower transition bandwidth: 0.50 Hz (-6 dB cutoff frequency: 49.12 Hz)\n",
      "- Upper passband edge: 50.62 Hz\n",
      "- Upper transition bandwidth: 0.50 Hz (-6 dB cutoff frequency: 50.88 Hz)\n",
      "- Filter length: 1651 samples (6.604 s)\n",
      "\n",
      "Overwriting existing file.\n",
      "Writing /content/cleaned_data/first_session/A08T.fif\n"
     ]
    },
    {
     "name": "stderr",
     "output_type": "stream",
     "text": [
      "[Parallel(n_jobs=1)]: Done  17 tasks      | elapsed:    0.4s\n",
      "<ipython-input-10-52d09285b9e3>:27: RuntimeWarning: This filename (/content/cleaned_data/first_session/A08T.fif) does not conform to MNE naming conventions. All raw files should end with raw.fif, raw_sss.fif, raw_tsss.fif, _meg.fif, _eeg.fif, _ieeg.fif, raw.fif.gz, raw_sss.fif.gz, raw_tsss.fif.gz, _meg.fif.gz, _eeg.fif.gz or _ieeg.fif.gz\n",
      "  raw.save(new_file_path, overwrite=True)\n"
     ]
    },
    {
     "name": "stdout",
     "output_type": "stream",
     "text": [
      "Closing /content/cleaned_data/first_session/A08T.fif\n",
      "[done]\n",
      "Extracting EDF parameters from /content/raw_data/A09T.gdf...\n",
      "GDF file detected\n",
      "Setting channel info structure...\n",
      "Could not determine channel type of the following channels, they will be set as EEG:\n",
      "EEG-Fz, EEG, EEG, EEG, EEG, EEG, EEG, EEG-C3, EEG, EEG-Cz, EEG, EEG-C4, EEG, EEG, EEG, EEG, EEG, EEG, EEG, EEG-Pz, EEG, EEG\n",
      "Creating raw.info structure...\n",
      "Reading 0 ... 673327  =      0.000 ...  2693.308 secs...\n"
     ]
    },
    {
     "name": "stderr",
     "output_type": "stream",
     "text": [
      "/usr/lib/python3.10/contextlib.py:142: RuntimeWarning: Channel names are not unique, found duplicates for: {'EEG'}. Applying running numbers for duplicates.\n",
      "  next(self.gen)\n"
     ]
    },
    {
     "name": "stdout",
     "output_type": "stream",
     "text": [
      "Filtering raw data in 1 contiguous segment\n",
      "Setting up band-pass filter from 4 - 40 Hz\n",
      "\n",
      "IIR filter parameters\n",
      "---------------------\n",
      "Butterworth bandpass zero-phase (two-pass forward and reverse) non-causal filter:\n",
      "- Filter order 16 (effective, after forward-backward)\n",
      "- Cutoffs at 4.00, 40.00 Hz: -6.02, -6.02 dB\n",
      "\n",
      "Filtering raw data in 1 contiguous segment\n",
      "Setting up band-stop filter from 49 - 51 Hz\n",
      "\n",
      "FIR filter parameters\n",
      "---------------------\n",
      "Designing a one-pass, zero-phase, non-causal bandstop filter:\n",
      "- Windowed time-domain design (firwin) method\n",
      "- Hamming window with 0.0194 passband ripple and 53 dB stopband attenuation\n",
      "- Lower passband edge: 49.38\n",
      "- Lower transition bandwidth: 0.50 Hz (-6 dB cutoff frequency: 49.12 Hz)\n",
      "- Upper passband edge: 50.62 Hz\n",
      "- Upper transition bandwidth: 0.50 Hz (-6 dB cutoff frequency: 50.88 Hz)\n",
      "- Filter length: 1651 samples (6.604 s)\n",
      "\n",
      "Overwriting existing file.\n",
      "Writing /content/cleaned_data/first_session/A09T.fif\n"
     ]
    },
    {
     "name": "stderr",
     "output_type": "stream",
     "text": [
      "[Parallel(n_jobs=1)]: Done  17 tasks      | elapsed:    0.4s\n",
      "<ipython-input-10-52d09285b9e3>:27: RuntimeWarning: This filename (/content/cleaned_data/first_session/A09T.fif) does not conform to MNE naming conventions. All raw files should end with raw.fif, raw_sss.fif, raw_tsss.fif, _meg.fif, _eeg.fif, _ieeg.fif, raw.fif.gz, raw_sss.fif.gz, raw_tsss.fif.gz, _meg.fif.gz, _eeg.fif.gz or _ieeg.fif.gz\n",
      "  raw.save(new_file_path, overwrite=True)\n"
     ]
    },
    {
     "name": "stdout",
     "output_type": "stream",
     "text": [
      "Closing /content/cleaned_data/first_session/A09T.fif\n",
      "[done]\n",
      "Extracting EDF parameters from /content/raw_data/A07T.gdf...\n",
      "GDF file detected\n",
      "Setting channel info structure...\n",
      "Could not determine channel type of the following channels, they will be set as EEG:\n",
      "EEG-Fz, EEG, EEG, EEG, EEG, EEG, EEG, EEG-C3, EEG, EEG-Cz, EEG, EEG-C4, EEG, EEG, EEG, EEG, EEG, EEG, EEG, EEG-Pz, EEG, EEG\n",
      "Creating raw.info structure...\n",
      "Reading 0 ... 681070  =      0.000 ...  2724.280 secs...\n"
     ]
    },
    {
     "name": "stderr",
     "output_type": "stream",
     "text": [
      "/usr/lib/python3.10/contextlib.py:142: RuntimeWarning: Channel names are not unique, found duplicates for: {'EEG'}. Applying running numbers for duplicates.\n",
      "  next(self.gen)\n"
     ]
    },
    {
     "name": "stdout",
     "output_type": "stream",
     "text": [
      "Filtering raw data in 1 contiguous segment\n",
      "Setting up band-pass filter from 4 - 40 Hz\n",
      "\n",
      "IIR filter parameters\n",
      "---------------------\n",
      "Butterworth bandpass zero-phase (two-pass forward and reverse) non-causal filter:\n",
      "- Filter order 16 (effective, after forward-backward)\n",
      "- Cutoffs at 4.00, 40.00 Hz: -6.02, -6.02 dB\n",
      "\n",
      "Filtering raw data in 1 contiguous segment\n",
      "Setting up band-stop filter from 49 - 51 Hz\n",
      "\n",
      "FIR filter parameters\n",
      "---------------------\n",
      "Designing a one-pass, zero-phase, non-causal bandstop filter:\n",
      "- Windowed time-domain design (firwin) method\n",
      "- Hamming window with 0.0194 passband ripple and 53 dB stopband attenuation\n",
      "- Lower passband edge: 49.38\n",
      "- Lower transition bandwidth: 0.50 Hz (-6 dB cutoff frequency: 49.12 Hz)\n",
      "- Upper passband edge: 50.62 Hz\n",
      "- Upper transition bandwidth: 0.50 Hz (-6 dB cutoff frequency: 50.88 Hz)\n",
      "- Filter length: 1651 samples (6.604 s)\n",
      "\n",
      "Overwriting existing file.\n",
      "Writing /content/cleaned_data/first_session/A07T.fif\n"
     ]
    },
    {
     "name": "stderr",
     "output_type": "stream",
     "text": [
      "[Parallel(n_jobs=1)]: Done  17 tasks      | elapsed:    0.4s\n",
      "<ipython-input-10-52d09285b9e3>:27: RuntimeWarning: This filename (/content/cleaned_data/first_session/A07T.fif) does not conform to MNE naming conventions. All raw files should end with raw.fif, raw_sss.fif, raw_tsss.fif, _meg.fif, _eeg.fif, _ieeg.fif, raw.fif.gz, raw_sss.fif.gz, raw_tsss.fif.gz, _meg.fif.gz, _eeg.fif.gz or _ieeg.fif.gz\n",
      "  raw.save(new_file_path, overwrite=True)\n"
     ]
    },
    {
     "name": "stdout",
     "output_type": "stream",
     "text": [
      "Closing /content/cleaned_data/first_session/A07T.fif\n",
      "[done]\n",
      "Extracting EDF parameters from /content/raw_data/A02T.gdf...\n",
      "GDF file detected\n",
      "Setting channel info structure...\n",
      "Could not determine channel type of the following channels, they will be set as EEG:\n",
      "EEG-Fz, EEG, EEG, EEG, EEG, EEG, EEG, EEG-C3, EEG, EEG-Cz, EEG, EEG-C4, EEG, EEG, EEG, EEG, EEG, EEG, EEG, EEG-Pz, EEG, EEG\n",
      "Creating raw.info structure...\n",
      "Reading 0 ... 677168  =      0.000 ...  2708.672 secs...\n"
     ]
    },
    {
     "name": "stderr",
     "output_type": "stream",
     "text": [
      "/usr/lib/python3.10/contextlib.py:142: RuntimeWarning: Channel names are not unique, found duplicates for: {'EEG'}. Applying running numbers for duplicates.\n",
      "  next(self.gen)\n"
     ]
    },
    {
     "name": "stdout",
     "output_type": "stream",
     "text": [
      "Filtering raw data in 1 contiguous segment\n",
      "Setting up band-pass filter from 4 - 40 Hz\n",
      "\n",
      "IIR filter parameters\n",
      "---------------------\n",
      "Butterworth bandpass zero-phase (two-pass forward and reverse) non-causal filter:\n",
      "- Filter order 16 (effective, after forward-backward)\n",
      "- Cutoffs at 4.00, 40.00 Hz: -6.02, -6.02 dB\n",
      "\n",
      "Filtering raw data in 1 contiguous segment\n",
      "Setting up band-stop filter from 49 - 51 Hz\n",
      "\n",
      "FIR filter parameters\n",
      "---------------------\n",
      "Designing a one-pass, zero-phase, non-causal bandstop filter:\n",
      "- Windowed time-domain design (firwin) method\n",
      "- Hamming window with 0.0194 passband ripple and 53 dB stopband attenuation\n",
      "- Lower passband edge: 49.38\n",
      "- Lower transition bandwidth: 0.50 Hz (-6 dB cutoff frequency: 49.12 Hz)\n",
      "- Upper passband edge: 50.62 Hz\n",
      "- Upper transition bandwidth: 0.50 Hz (-6 dB cutoff frequency: 50.88 Hz)\n",
      "- Filter length: 1651 samples (6.604 s)\n",
      "\n"
     ]
    },
    {
     "name": "stderr",
     "output_type": "stream",
     "text": [
      "[Parallel(n_jobs=1)]: Done  17 tasks      | elapsed:    0.6s\n"
     ]
    },
    {
     "name": "stdout",
     "output_type": "stream",
     "text": [
      "Overwriting existing file.\n",
      "Writing /content/cleaned_data/first_session/A02T.fif\n"
     ]
    },
    {
     "name": "stderr",
     "output_type": "stream",
     "text": [
      "<ipython-input-10-52d09285b9e3>:27: RuntimeWarning: This filename (/content/cleaned_data/first_session/A02T.fif) does not conform to MNE naming conventions. All raw files should end with raw.fif, raw_sss.fif, raw_tsss.fif, _meg.fif, _eeg.fif, _ieeg.fif, raw.fif.gz, raw_sss.fif.gz, raw_tsss.fif.gz, _meg.fif.gz, _eeg.fif.gz or _ieeg.fif.gz\n",
      "  raw.save(new_file_path, overwrite=True)\n"
     ]
    },
    {
     "name": "stdout",
     "output_type": "stream",
     "text": [
      "Closing /content/cleaned_data/first_session/A02T.fif\n",
      "[done]\n",
      "Extracting EDF parameters from /content/raw_data/A01T.gdf...\n",
      "GDF file detected\n",
      "Setting channel info structure...\n",
      "Could not determine channel type of the following channels, they will be set as EEG:\n",
      "EEG-Fz, EEG, EEG, EEG, EEG, EEG, EEG, EEG-C3, EEG, EEG-Cz, EEG, EEG-C4, EEG, EEG, EEG, EEG, EEG, EEG, EEG, EEG-Pz, EEG, EEG\n",
      "Creating raw.info structure...\n",
      "Reading 0 ... 672527  =      0.000 ...  2690.108 secs...\n"
     ]
    },
    {
     "name": "stderr",
     "output_type": "stream",
     "text": [
      "/usr/lib/python3.10/contextlib.py:142: RuntimeWarning: Channel names are not unique, found duplicates for: {'EEG'}. Applying running numbers for duplicates.\n",
      "  next(self.gen)\n"
     ]
    },
    {
     "name": "stdout",
     "output_type": "stream",
     "text": [
      "Filtering raw data in 1 contiguous segment\n",
      "Setting up band-pass filter from 4 - 40 Hz\n",
      "\n",
      "IIR filter parameters\n",
      "---------------------\n",
      "Butterworth bandpass zero-phase (two-pass forward and reverse) non-causal filter:\n",
      "- Filter order 16 (effective, after forward-backward)\n",
      "- Cutoffs at 4.00, 40.00 Hz: -6.02, -6.02 dB\n",
      "\n",
      "Filtering raw data in 1 contiguous segment\n",
      "Setting up band-stop filter from 49 - 51 Hz\n",
      "\n",
      "FIR filter parameters\n",
      "---------------------\n",
      "Designing a one-pass, zero-phase, non-causal bandstop filter:\n",
      "- Windowed time-domain design (firwin) method\n",
      "- Hamming window with 0.0194 passband ripple and 53 dB stopband attenuation\n",
      "- Lower passband edge: 49.38\n",
      "- Lower transition bandwidth: 0.50 Hz (-6 dB cutoff frequency: 49.12 Hz)\n",
      "- Upper passband edge: 50.62 Hz\n",
      "- Upper transition bandwidth: 0.50 Hz (-6 dB cutoff frequency: 50.88 Hz)\n",
      "- Filter length: 1651 samples (6.604 s)\n",
      "\n",
      "Overwriting existing file.\n",
      "Writing /content/cleaned_data/first_session/A01T.fif\n"
     ]
    },
    {
     "name": "stderr",
     "output_type": "stream",
     "text": [
      "[Parallel(n_jobs=1)]: Done  17 tasks      | elapsed:    0.4s\n",
      "<ipython-input-10-52d09285b9e3>:27: RuntimeWarning: This filename (/content/cleaned_data/first_session/A01T.fif) does not conform to MNE naming conventions. All raw files should end with raw.fif, raw_sss.fif, raw_tsss.fif, _meg.fif, _eeg.fif, _ieeg.fif, raw.fif.gz, raw_sss.fif.gz, raw_tsss.fif.gz, _meg.fif.gz, _eeg.fif.gz or _ieeg.fif.gz\n",
      "  raw.save(new_file_path, overwrite=True)\n"
     ]
    },
    {
     "name": "stdout",
     "output_type": "stream",
     "text": [
      "Closing /content/cleaned_data/first_session/A01T.fif\n",
      "[done]\n",
      "Overwriting existing file.\n",
      "Writing /content/cleaned_data/first_session/First_Session_Subjects.fif\n"
     ]
    },
    {
     "name": "stderr",
     "output_type": "stream",
     "text": [
      "<ipython-input-10-52d09285b9e3>:33: RuntimeWarning: This filename (/content/cleaned_data/first_session/First_Session_Subjects.fif) does not conform to MNE naming conventions. All raw files should end with raw.fif, raw_sss.fif, raw_tsss.fif, _meg.fif, _eeg.fif, _ieeg.fif, raw.fif.gz, raw_sss.fif.gz, raw_tsss.fif.gz, _meg.fif.gz, _eeg.fif.gz or _ieeg.fif.gz\n",
      "  final_raw.save(new_file_path, overwrite=True)\n"
     ]
    },
    {
     "name": "stdout",
     "output_type": "stream",
     "text": [
      "Closing /content/cleaned_data/first_session/First_Session_Subjects.fif\n",
      "[done]\n"
     ]
    }
   ],
   "source": [
    "raw_data_folder = '/content/raw_data/'\n",
    "cleaned_data_folder = '/content/cleaned_data/first_session/'\n",
    "files = os.listdir(raw_data_folder)\n",
    "\n",
    "# Selecting files with suffix 'T.gdf'\n",
    "filtered_files = [file for file in files if file.endswith('T.gdf')]\n",
    "\n",
    "raw_list = []\n",
    "\n",
    "# Iterating through filtered files\n",
    "for file in filtered_files:\n",
    "    file_path = os.path.join(raw_data_folder, file)\n",
    "\n",
    "    # Reading raw data\n",
    "    raw = mne.io.read_raw_gdf(file_path, eog=['EOG-left', 'EOG-central', 'EOG-right'], preload=True)\n",
    "    # Droping EOG channels\n",
    "    raw.drop_channels(['EOG-left', 'EOG-central', 'EOG-right'])\n",
    "\n",
    "    # High Pass Filtering 4-40 Hz\n",
    "    raw.filter(l_freq=4, h_freq=40, method='iir')\n",
    "\n",
    "    # Notch filter for Removal of Line Voltage\n",
    "    raw.notch_filter(freqs=50)\n",
    "\n",
    "    # Saving the modified raw data to a file with .fif suffix\n",
    "    new_file_path = os.path.join(cleaned_data_folder, file[:-4] + '.fif')\n",
    "    raw.save(new_file_path, overwrite=True)\n",
    "    # Appending data to the list\n",
    "    raw_list.append(raw)\n",
    "\n",
    "final_raw = mne.concatenate_raws(raw_list)\n",
    "new_file_path = os.path.join(cleaned_data_folder, 'First_Session_Subjects.fif')\n",
    "final_raw.save(new_file_path, overwrite=True)\n"
   ]
  },
  {
   "cell_type": "markdown",
   "metadata": {
    "id": "wNqq3V3rCiPn"
   },
   "source": [
    "**List of the events**  \n",
    "'1023': 1 Rejected trial  \n",
    "'1072': 2 Eye movements  \n",
    "'276': 3 Idling EEG (eyes open)  \n",
    "'277': 4 Idling EEG (eyes closed)  \n",
    "'32766': 5 Start of a new run  \n",
    "'768': 6 Start of a trial  \n",
    "'769': 7 Cue onset **Left** (class 1) : 0  \n",
    "'770': 8 Cue onset **Right** (class 2) : 1  \n",
    "'771': 9 Cue onset **Foot** (class 3) : 2  \n",
    "'772': 10 Cue onset **Tongue** (class 4): 3"
   ]
  },
  {
   "cell_type": "code",
   "execution_count": 11,
   "metadata": {
    "colab": {
     "base_uri": "https://localhost:8080/"
    },
    "id": "-9RZjQbWCoc0",
    "outputId": "19d9a659-3184-4184-cdbb-a6bc94112ec2"
   },
   "outputs": [
    {
     "name": "stdout",
     "output_type": "stream",
     "text": [
      "Used Annotations descriptions: ['1023', '1072', '276', '277', '32766', '768', '769', '770', '771', '772']\n"
     ]
    },
    {
     "data": {
      "text/plain": [
       "{'1023': 1,\n",
       " '1072': 2,\n",
       " '276': 3,\n",
       " '277': 4,\n",
       " '32766': 5,\n",
       " '768': 6,\n",
       " '769': 7,\n",
       " '770': 8,\n",
       " '771': 9,\n",
       " '772': 10}"
      ]
     },
     "execution_count": 11,
     "metadata": {},
     "output_type": "execute_result"
    }
   ],
   "source": [
    "events = mne.events_from_annotations(final_raw)\n",
    "events[1]"
   ]
  },
  {
   "cell_type": "markdown",
   "metadata": {
    "id": "PJAI_olujhxI"
   },
   "source": [
    "**Time choice:**  \n",
    "[0.s, 4s] Post Cue on set:  [2s, 6s]"
   ]
  },
  {
   "cell_type": "code",
   "execution_count": 12,
   "metadata": {
    "colab": {
     "base_uri": "https://localhost:8080/"
    },
    "id": "OaAuA1mQCqcP",
    "outputId": "4c0f369f-a02f-419c-878d-5118e00230d9"
   },
   "outputs": [
    {
     "name": "stdout",
     "output_type": "stream",
     "text": [
      "Not setting metadata\n",
      "2592 matching events found\n",
      "No baseline correction applied\n",
      "0 projection items activated\n",
      "Using data from preloaded Raw for 2592 events and 1001 original time points ...\n",
      "0 bad epochs dropped\n"
     ]
    }
   ],
   "source": [
    "epochs = mne.Epochs(final_raw, events[0], event_id=[7, 8, 9, 10], tmin=0, tmax=4, reject=None, baseline=None, preload=True)\n",
    "first_session_data = epochs.get_data(copy=True)\n",
    "first_session_labels = epochs.events[:,-1]"
   ]
  },
  {
   "cell_type": "code",
   "execution_count": 13,
   "metadata": {
    "colab": {
     "base_uri": "https://localhost:8080/"
    },
    "id": "rVNRjQbfCs3-",
    "outputId": "689c2716-9efd-4d6c-a62f-dcd94969ce56"
   },
   "outputs": [
    {
     "name": "stdout",
     "output_type": "stream",
     "text": [
      "First_session_dataset shape: (2592, 22, 1001)\n"
     ]
    }
   ],
   "source": [
    "print(\"First_session_dataset shape:\",first_session_data.shape)"
   ]
  },
  {
   "cell_type": "markdown",
   "metadata": {
    "id": "JJva8vhuMAtc"
   },
   "source": [
    "##Second Session"
   ]
  },
  {
   "cell_type": "markdown",
   "metadata": {
    "id": "bzQH8SI9MI72"
   },
   "source": [
    "###Extracting Labels for datas with \"E.gdf\" prefix"
   ]
  },
  {
   "cell_type": "code",
   "execution_count": 15,
   "metadata": {
    "colab": {
     "base_uri": "https://localhost:8080/",
     "height": 105
    },
    "id": "MjLuwdcgMD_l",
    "outputId": "09976f38-e9f5-4ee2-c25e-b4f6c272fd58"
   },
   "outputs": [
    {
     "name": "stderr",
     "output_type": "stream",
     "text": [
      "Downloading...\n",
      "From: https://drive.google.com/uc?id=11Ke2Xta1kv2xu2Mybuu_X51zJYjQ-VFo&export=download\n",
      "To: /content/true_labels.zip\n",
      "100%|██████████| 7.20k/7.20k [00:00<00:00, 20.0MB/s]\n"
     ]
    },
    {
     "data": {
      "application/vnd.google.colaboratory.intrinsic+json": {
       "type": "string"
      },
      "text/plain": [
       "'true_labels.zip'"
      ]
     },
     "execution_count": 15,
     "metadata": {},
     "output_type": "execute_result"
    }
   ],
   "source": [
    "# Replace this with your actual shareable link\n",
    "shareable_link = 'https://drive.google.com/file/d/11Ke2Xta1kv2xu2Mybuu_X51zJYjQ-VFo/view?usp=drive_link'\n",
    "\n",
    "# Extract file ID from the shareable link\n",
    "file_id = shareable_link.split('/d/')[1].split('/view')[0]\n",
    "\n",
    "# Create the direct download link\n",
    "download_url = f'https://drive.google.com/uc?id={file_id}&export=download'\n",
    "\n",
    "# Specify the output file path\n",
    "output_file = 'true_labels.zip'\n",
    "\n",
    "# Download the file\n",
    "gdown.download(download_url, output_file, quiet=False)"
   ]
  },
  {
   "cell_type": "code",
   "execution_count": 16,
   "metadata": {
    "id": "03wA4VGpMZNS"
   },
   "outputs": [],
   "source": [
    "%%capture\n",
    "!unzip /content/true_labels.zip -d second_session_labels"
   ]
  },
  {
   "cell_type": "markdown",
   "metadata": {
    "id": "1iijTs3RMdCo"
   },
   "source": [
    "###Extracting datas of second session"
   ]
  },
  {
   "cell_type": "code",
   "execution_count": 17,
   "metadata": {
    "colab": {
     "base_uri": "https://localhost:8080/"
    },
    "id": "GbOQB2gDMgOf",
    "outputId": "3f33f296-904c-44e7-f69e-59da23a36216"
   },
   "outputs": [
    {
     "name": "stdout",
     "output_type": "stream",
     "text": [
      "Extracting EDF parameters from /content/raw_data/A05E.gdf...\n",
      "GDF file detected\n",
      "Setting channel info structure...\n",
      "Could not determine channel type of the following channels, they will be set as EEG:\n",
      "EEG-Fz, EEG, EEG, EEG, EEG, EEG, EEG, EEG-C3, EEG, EEG-Cz, EEG, EEG-C4, EEG, EEG, EEG, EEG, EEG, EEG, EEG, EEG-Pz, EEG, EEG\n",
      "Creating raw.info structure...\n",
      "Reading 0 ... 679862  =      0.000 ...  2719.448 secs...\n"
     ]
    },
    {
     "name": "stderr",
     "output_type": "stream",
     "text": [
      "/usr/lib/python3.10/contextlib.py:142: RuntimeWarning: Channel names are not unique, found duplicates for: {'EEG'}. Applying running numbers for duplicates.\n",
      "  next(self.gen)\n"
     ]
    },
    {
     "name": "stdout",
     "output_type": "stream",
     "text": [
      "Filtering raw data in 1 contiguous segment\n",
      "Setting up band-pass filter from 4 - 40 Hz\n",
      "\n",
      "IIR filter parameters\n",
      "---------------------\n",
      "Butterworth bandpass zero-phase (two-pass forward and reverse) non-causal filter:\n",
      "- Filter order 16 (effective, after forward-backward)\n",
      "- Cutoffs at 4.00, 40.00 Hz: -6.02, -6.02 dB\n",
      "\n",
      "Writing /content/cleaned_data/second_session/A05E.fif\n"
     ]
    },
    {
     "name": "stderr",
     "output_type": "stream",
     "text": [
      "<ipython-input-17-17b2bcb1c589>:29: RuntimeWarning: This filename (/content/cleaned_data/second_session/A05E.fif) does not conform to MNE naming conventions. All raw files should end with raw.fif, raw_sss.fif, raw_tsss.fif, _meg.fif, _eeg.fif, _ieeg.fif, raw.fif.gz, raw_sss.fif.gz, raw_tsss.fif.gz, _meg.fif.gz, _eeg.fif.gz or _ieeg.fif.gz\n",
      "  raw.save(new_file_path, overwrite=True)\n"
     ]
    },
    {
     "name": "stdout",
     "output_type": "stream",
     "text": [
      "Closing /content/cleaned_data/second_session/A05E.fif\n",
      "[done]\n",
      "data:A05E.gdf, label:A05E.mat\n",
      "Extracting EDF parameters from /content/raw_data/A09E.gdf...\n",
      "GDF file detected\n",
      "Setting channel info structure...\n",
      "Could not determine channel type of the following channels, they will be set as EEG:\n",
      "EEG-Fz, EEG, EEG, EEG, EEG, EEG, EEG, EEG-C3, EEG, EEG-Cz, EEG, EEG-C4, EEG, EEG, EEG, EEG, EEG, EEG, EEG, EEG-Pz, EEG, EEG\n",
      "Creating raw.info structure...\n",
      "Reading 0 ... 675097  =      0.000 ...  2700.388 secs...\n"
     ]
    },
    {
     "name": "stderr",
     "output_type": "stream",
     "text": [
      "/usr/lib/python3.10/contextlib.py:142: RuntimeWarning: Channel names are not unique, found duplicates for: {'EEG'}. Applying running numbers for duplicates.\n",
      "  next(self.gen)\n"
     ]
    },
    {
     "name": "stdout",
     "output_type": "stream",
     "text": [
      "Filtering raw data in 1 contiguous segment\n",
      "Setting up band-pass filter from 4 - 40 Hz\n",
      "\n",
      "IIR filter parameters\n",
      "---------------------\n",
      "Butterworth bandpass zero-phase (two-pass forward and reverse) non-causal filter:\n",
      "- Filter order 16 (effective, after forward-backward)\n",
      "- Cutoffs at 4.00, 40.00 Hz: -6.02, -6.02 dB\n",
      "\n",
      "Writing /content/cleaned_data/second_session/A09E.fif\n"
     ]
    },
    {
     "name": "stderr",
     "output_type": "stream",
     "text": [
      "<ipython-input-17-17b2bcb1c589>:29: RuntimeWarning: This filename (/content/cleaned_data/second_session/A09E.fif) does not conform to MNE naming conventions. All raw files should end with raw.fif, raw_sss.fif, raw_tsss.fif, _meg.fif, _eeg.fif, _ieeg.fif, raw.fif.gz, raw_sss.fif.gz, raw_tsss.fif.gz, _meg.fif.gz, _eeg.fif.gz or _ieeg.fif.gz\n",
      "  raw.save(new_file_path, overwrite=True)\n"
     ]
    },
    {
     "name": "stdout",
     "output_type": "stream",
     "text": [
      "Closing /content/cleaned_data/second_session/A09E.fif\n",
      "[done]\n",
      "data:A09E.gdf, label:A09E.mat\n",
      "Extracting EDF parameters from /content/raw_data/A08E.gdf...\n",
      "GDF file detected\n",
      "Setting channel info structure...\n",
      "Could not determine channel type of the following channels, they will be set as EEG:\n",
      "EEG-Fz, EEG, EEG, EEG, EEG, EEG, EEG, EEG-C3, EEG, EEG-Cz, EEG, EEG-C4, EEG, EEG, EEG, EEG, EEG, EEG, EEG, EEG-Pz, EEG, EEG\n",
      "Creating raw.info structure...\n",
      "Reading 0 ... 687791  =      0.000 ...  2751.164 secs...\n"
     ]
    },
    {
     "name": "stderr",
     "output_type": "stream",
     "text": [
      "/usr/lib/python3.10/contextlib.py:142: RuntimeWarning: Channel names are not unique, found duplicates for: {'EEG'}. Applying running numbers for duplicates.\n",
      "  next(self.gen)\n"
     ]
    },
    {
     "name": "stdout",
     "output_type": "stream",
     "text": [
      "Filtering raw data in 1 contiguous segment\n",
      "Setting up band-pass filter from 4 - 40 Hz\n",
      "\n",
      "IIR filter parameters\n",
      "---------------------\n",
      "Butterworth bandpass zero-phase (two-pass forward and reverse) non-causal filter:\n",
      "- Filter order 16 (effective, after forward-backward)\n",
      "- Cutoffs at 4.00, 40.00 Hz: -6.02, -6.02 dB\n",
      "\n",
      "Writing /content/cleaned_data/second_session/A08E.fif\n"
     ]
    },
    {
     "name": "stderr",
     "output_type": "stream",
     "text": [
      "<ipython-input-17-17b2bcb1c589>:29: RuntimeWarning: This filename (/content/cleaned_data/second_session/A08E.fif) does not conform to MNE naming conventions. All raw files should end with raw.fif, raw_sss.fif, raw_tsss.fif, _meg.fif, _eeg.fif, _ieeg.fif, raw.fif.gz, raw_sss.fif.gz, raw_tsss.fif.gz, _meg.fif.gz, _eeg.fif.gz or _ieeg.fif.gz\n",
      "  raw.save(new_file_path, overwrite=True)\n"
     ]
    },
    {
     "name": "stdout",
     "output_type": "stream",
     "text": [
      "Closing /content/cleaned_data/second_session/A08E.fif\n",
      "[done]\n",
      "data:A08E.gdf, label:A08E.mat\n",
      "Extracting EDF parameters from /content/raw_data/A02E.gdf...\n",
      "GDF file detected\n",
      "Setting channel info structure...\n",
      "Could not determine channel type of the following channels, they will be set as EEG:\n",
      "EEG-Fz, EEG, EEG, EEG, EEG, EEG, EEG, EEG-C3, EEG, EEG-Cz, EEG, EEG-C4, EEG, EEG, EEG, EEG, EEG, EEG, EEG, EEG-Pz, EEG, EEG\n",
      "Creating raw.info structure...\n",
      "Reading 0 ... 662665  =      0.000 ...  2650.660 secs...\n"
     ]
    },
    {
     "name": "stderr",
     "output_type": "stream",
     "text": [
      "/usr/lib/python3.10/contextlib.py:142: RuntimeWarning: Channel names are not unique, found duplicates for: {'EEG'}. Applying running numbers for duplicates.\n",
      "  next(self.gen)\n"
     ]
    },
    {
     "name": "stdout",
     "output_type": "stream",
     "text": [
      "Filtering raw data in 1 contiguous segment\n",
      "Setting up band-pass filter from 4 - 40 Hz\n",
      "\n",
      "IIR filter parameters\n",
      "---------------------\n",
      "Butterworth bandpass zero-phase (two-pass forward and reverse) non-causal filter:\n",
      "- Filter order 16 (effective, after forward-backward)\n",
      "- Cutoffs at 4.00, 40.00 Hz: -6.02, -6.02 dB\n",
      "\n",
      "Writing /content/cleaned_data/second_session/A02E.fif\n"
     ]
    },
    {
     "name": "stderr",
     "output_type": "stream",
     "text": [
      "<ipython-input-17-17b2bcb1c589>:29: RuntimeWarning: This filename (/content/cleaned_data/second_session/A02E.fif) does not conform to MNE naming conventions. All raw files should end with raw.fif, raw_sss.fif, raw_tsss.fif, _meg.fif, _eeg.fif, _ieeg.fif, raw.fif.gz, raw_sss.fif.gz, raw_tsss.fif.gz, _meg.fif.gz, _eeg.fif.gz or _ieeg.fif.gz\n",
      "  raw.save(new_file_path, overwrite=True)\n"
     ]
    },
    {
     "name": "stdout",
     "output_type": "stream",
     "text": [
      "Closing /content/cleaned_data/second_session/A02E.fif\n",
      "[done]\n",
      "data:A02E.gdf, label:A02E.mat\n",
      "Extracting EDF parameters from /content/raw_data/A01E.gdf...\n",
      "GDF file detected\n",
      "Setting channel info structure...\n",
      "Could not determine channel type of the following channels, they will be set as EEG:\n",
      "EEG-Fz, EEG, EEG, EEG, EEG, EEG, EEG, EEG-C3, EEG, EEG-Cz, EEG, EEG-C4, EEG, EEG, EEG, EEG, EEG, EEG, EEG, EEG-Pz, EEG, EEG\n",
      "Creating raw.info structure...\n",
      "Reading 0 ... 686999  =      0.000 ...  2747.996 secs...\n"
     ]
    },
    {
     "name": "stderr",
     "output_type": "stream",
     "text": [
      "/usr/lib/python3.10/contextlib.py:142: RuntimeWarning: Channel names are not unique, found duplicates for: {'EEG'}. Applying running numbers for duplicates.\n",
      "  next(self.gen)\n"
     ]
    },
    {
     "name": "stdout",
     "output_type": "stream",
     "text": [
      "Filtering raw data in 1 contiguous segment\n",
      "Setting up band-pass filter from 4 - 40 Hz\n",
      "\n",
      "IIR filter parameters\n",
      "---------------------\n",
      "Butterworth bandpass zero-phase (two-pass forward and reverse) non-causal filter:\n",
      "- Filter order 16 (effective, after forward-backward)\n",
      "- Cutoffs at 4.00, 40.00 Hz: -6.02, -6.02 dB\n",
      "\n",
      "Writing /content/cleaned_data/second_session/A01E.fif\n"
     ]
    },
    {
     "name": "stderr",
     "output_type": "stream",
     "text": [
      "<ipython-input-17-17b2bcb1c589>:29: RuntimeWarning: This filename (/content/cleaned_data/second_session/A01E.fif) does not conform to MNE naming conventions. All raw files should end with raw.fif, raw_sss.fif, raw_tsss.fif, _meg.fif, _eeg.fif, _ieeg.fif, raw.fif.gz, raw_sss.fif.gz, raw_tsss.fif.gz, _meg.fif.gz, _eeg.fif.gz or _ieeg.fif.gz\n",
      "  raw.save(new_file_path, overwrite=True)\n"
     ]
    },
    {
     "name": "stdout",
     "output_type": "stream",
     "text": [
      "Closing /content/cleaned_data/second_session/A01E.fif\n",
      "[done]\n",
      "data:A01E.gdf, label:A01E.mat\n",
      "Extracting EDF parameters from /content/raw_data/A07E.gdf...\n",
      "GDF file detected\n",
      "Setting channel info structure...\n",
      "Could not determine channel type of the following channels, they will be set as EEG:\n",
      "EEG-Fz, EEG, EEG, EEG, EEG, EEG, EEG, EEG-C3, EEG, EEG-Cz, EEG, EEG-C4, EEG, EEG, EEG, EEG, EEG, EEG, EEG, EEG-Pz, EEG, EEG\n",
      "Creating raw.info structure...\n",
      "Reading 0 ... 673134  =      0.000 ...  2692.536 secs...\n"
     ]
    },
    {
     "name": "stderr",
     "output_type": "stream",
     "text": [
      "/usr/lib/python3.10/contextlib.py:142: RuntimeWarning: Channel names are not unique, found duplicates for: {'EEG'}. Applying running numbers for duplicates.\n",
      "  next(self.gen)\n"
     ]
    },
    {
     "name": "stdout",
     "output_type": "stream",
     "text": [
      "Filtering raw data in 1 contiguous segment\n",
      "Setting up band-pass filter from 4 - 40 Hz\n",
      "\n",
      "IIR filter parameters\n",
      "---------------------\n",
      "Butterworth bandpass zero-phase (two-pass forward and reverse) non-causal filter:\n",
      "- Filter order 16 (effective, after forward-backward)\n",
      "- Cutoffs at 4.00, 40.00 Hz: -6.02, -6.02 dB\n",
      "\n",
      "Writing /content/cleaned_data/second_session/A07E.fif\n"
     ]
    },
    {
     "name": "stderr",
     "output_type": "stream",
     "text": [
      "<ipython-input-17-17b2bcb1c589>:29: RuntimeWarning: This filename (/content/cleaned_data/second_session/A07E.fif) does not conform to MNE naming conventions. All raw files should end with raw.fif, raw_sss.fif, raw_tsss.fif, _meg.fif, _eeg.fif, _ieeg.fif, raw.fif.gz, raw_sss.fif.gz, raw_tsss.fif.gz, _meg.fif.gz, _eeg.fif.gz or _ieeg.fif.gz\n",
      "  raw.save(new_file_path, overwrite=True)\n"
     ]
    },
    {
     "name": "stdout",
     "output_type": "stream",
     "text": [
      "Closing /content/cleaned_data/second_session/A07E.fif\n",
      "[done]\n",
      "data:A07E.gdf, label:A07E.mat\n",
      "Extracting EDF parameters from /content/raw_data/A03E.gdf...\n",
      "GDF file detected\n",
      "Setting channel info structure...\n",
      "Could not determine channel type of the following channels, they will be set as EEG:\n",
      "EEG-Fz, EEG, EEG, EEG, EEG, EEG, EEG, EEG-C3, EEG, EEG-Cz, EEG, EEG-C4, EEG, EEG, EEG, EEG, EEG, EEG, EEG, EEG-Pz, EEG, EEG\n",
      "Creating raw.info structure...\n",
      "Reading 0 ... 648774  =      0.000 ...  2595.096 secs...\n"
     ]
    },
    {
     "name": "stderr",
     "output_type": "stream",
     "text": [
      "/usr/lib/python3.10/contextlib.py:142: RuntimeWarning: Channel names are not unique, found duplicates for: {'EEG'}. Applying running numbers for duplicates.\n",
      "  next(self.gen)\n"
     ]
    },
    {
     "name": "stdout",
     "output_type": "stream",
     "text": [
      "Filtering raw data in 1 contiguous segment\n",
      "Setting up band-pass filter from 4 - 40 Hz\n",
      "\n",
      "IIR filter parameters\n",
      "---------------------\n",
      "Butterworth bandpass zero-phase (two-pass forward and reverse) non-causal filter:\n",
      "- Filter order 16 (effective, after forward-backward)\n",
      "- Cutoffs at 4.00, 40.00 Hz: -6.02, -6.02 dB\n",
      "\n",
      "Writing /content/cleaned_data/second_session/A03E.fif\n"
     ]
    },
    {
     "name": "stderr",
     "output_type": "stream",
     "text": [
      "<ipython-input-17-17b2bcb1c589>:29: RuntimeWarning: This filename (/content/cleaned_data/second_session/A03E.fif) does not conform to MNE naming conventions. All raw files should end with raw.fif, raw_sss.fif, raw_tsss.fif, _meg.fif, _eeg.fif, _ieeg.fif, raw.fif.gz, raw_sss.fif.gz, raw_tsss.fif.gz, _meg.fif.gz, _eeg.fif.gz or _ieeg.fif.gz\n",
      "  raw.save(new_file_path, overwrite=True)\n"
     ]
    },
    {
     "name": "stdout",
     "output_type": "stream",
     "text": [
      "Closing /content/cleaned_data/second_session/A03E.fif\n",
      "[done]\n",
      "data:A03E.gdf, label:A03E.mat\n",
      "Extracting EDF parameters from /content/raw_data/A04E.gdf...\n",
      "GDF file detected\n",
      "Setting channel info structure...\n",
      "Could not determine channel type of the following channels, they will be set as EEG:\n",
      "EEG-Fz, EEG, EEG, EEG, EEG, EEG, EEG, EEG-C3, EEG, EEG-Cz, EEG, EEG-C4, EEG, EEG, EEG, EEG, EEG, EEG, EEG, EEG-Pz, EEG, EEG\n",
      "Creating raw.info structure...\n",
      "Reading 0 ... 660046  =      0.000 ...  2640.184 secs...\n"
     ]
    },
    {
     "name": "stderr",
     "output_type": "stream",
     "text": [
      "/usr/lib/python3.10/contextlib.py:142: RuntimeWarning: Channel names are not unique, found duplicates for: {'EEG'}. Applying running numbers for duplicates.\n",
      "  next(self.gen)\n"
     ]
    },
    {
     "name": "stdout",
     "output_type": "stream",
     "text": [
      "Filtering raw data in 1 contiguous segment\n",
      "Setting up band-pass filter from 4 - 40 Hz\n",
      "\n",
      "IIR filter parameters\n",
      "---------------------\n",
      "Butterworth bandpass zero-phase (two-pass forward and reverse) non-causal filter:\n",
      "- Filter order 16 (effective, after forward-backward)\n",
      "- Cutoffs at 4.00, 40.00 Hz: -6.02, -6.02 dB\n",
      "\n",
      "Writing /content/cleaned_data/second_session/A04E.fif\n"
     ]
    },
    {
     "name": "stderr",
     "output_type": "stream",
     "text": [
      "<ipython-input-17-17b2bcb1c589>:29: RuntimeWarning: This filename (/content/cleaned_data/second_session/A04E.fif) does not conform to MNE naming conventions. All raw files should end with raw.fif, raw_sss.fif, raw_tsss.fif, _meg.fif, _eeg.fif, _ieeg.fif, raw.fif.gz, raw_sss.fif.gz, raw_tsss.fif.gz, _meg.fif.gz, _eeg.fif.gz or _ieeg.fif.gz\n",
      "  raw.save(new_file_path, overwrite=True)\n"
     ]
    },
    {
     "name": "stdout",
     "output_type": "stream",
     "text": [
      "Closing /content/cleaned_data/second_session/A04E.fif\n",
      "[done]\n",
      "data:A04E.gdf, label:A04E.mat\n",
      "Extracting EDF parameters from /content/raw_data/A06E.gdf...\n",
      "GDF file detected\n",
      "Setting channel info structure...\n",
      "Could not determine channel type of the following channels, they will be set as EEG:\n",
      "EEG-Fz, EEG, EEG, EEG, EEG, EEG, EEG, EEG-C3, EEG, EEG-Cz, EEG, EEG-C4, EEG, EEG, EEG, EEG, EEG, EEG, EEG, EEG-Pz, EEG, EEG\n",
      "Creating raw.info structure...\n",
      "Reading 0 ... 666372  =      0.000 ...  2665.488 secs...\n"
     ]
    },
    {
     "name": "stderr",
     "output_type": "stream",
     "text": [
      "/usr/lib/python3.10/contextlib.py:142: RuntimeWarning: Channel names are not unique, found duplicates for: {'EEG'}. Applying running numbers for duplicates.\n",
      "  next(self.gen)\n"
     ]
    },
    {
     "name": "stdout",
     "output_type": "stream",
     "text": [
      "Filtering raw data in 1 contiguous segment\n",
      "Setting up band-pass filter from 4 - 40 Hz\n",
      "\n",
      "IIR filter parameters\n",
      "---------------------\n",
      "Butterworth bandpass zero-phase (two-pass forward and reverse) non-causal filter:\n",
      "- Filter order 16 (effective, after forward-backward)\n",
      "- Cutoffs at 4.00, 40.00 Hz: -6.02, -6.02 dB\n",
      "\n",
      "Writing /content/cleaned_data/second_session/A06E.fif\n"
     ]
    },
    {
     "name": "stderr",
     "output_type": "stream",
     "text": [
      "<ipython-input-17-17b2bcb1c589>:29: RuntimeWarning: This filename (/content/cleaned_data/second_session/A06E.fif) does not conform to MNE naming conventions. All raw files should end with raw.fif, raw_sss.fif, raw_tsss.fif, _meg.fif, _eeg.fif, _ieeg.fif, raw.fif.gz, raw_sss.fif.gz, raw_tsss.fif.gz, _meg.fif.gz, _eeg.fif.gz or _ieeg.fif.gz\n",
      "  raw.save(new_file_path, overwrite=True)\n"
     ]
    },
    {
     "name": "stdout",
     "output_type": "stream",
     "text": [
      "Closing /content/cleaned_data/second_session/A06E.fif\n",
      "[done]\n",
      "data:A06E.gdf, label:A06E.mat\n",
      "Writing /content/cleaned_data/second_session/Second_Session_Subjects.fif\n"
     ]
    },
    {
     "name": "stderr",
     "output_type": "stream",
     "text": [
      "<ipython-input-17-17b2bcb1c589>:55: RuntimeWarning: This filename (/content/cleaned_data/second_session/Second_Session_Subjects.fif) does not conform to MNE naming conventions. All raw files should end with raw.fif, raw_sss.fif, raw_tsss.fif, _meg.fif, _eeg.fif, _ieeg.fif, raw.fif.gz, raw_sss.fif.gz, raw_tsss.fif.gz, _meg.fif.gz, _eeg.fif.gz or _ieeg.fif.gz\n",
      "  final_raw.save(new_file_path, overwrite=True)\n"
     ]
    },
    {
     "name": "stdout",
     "output_type": "stream",
     "text": [
      "Closing /content/cleaned_data/second_session/Second_Session_Subjects.fif\n",
      "[done]\n"
     ]
    }
   ],
   "source": [
    "raw_data_folder = '/content/raw_data/'\n",
    "cleaned_data_folder = '/content/cleaned_data/second_session/'\n",
    "mat_folder = '/content/second_session_labels/'\n",
    "\n",
    "# Selecting files with suffix 'E.mat'\n",
    "mat_files = os.listdir(mat_folder)\n",
    "filtered_math_labels = [file for file in mat_files if file.endswith('E.mat')]\n",
    "\n",
    "# Selecting files with suffix 'E.gdf'\n",
    "files = os.listdir(raw_data_folder)\n",
    "filtered_files = [file for file in files if file.endswith('E.gdf')]\n",
    "\n",
    "raw_list = []\n",
    "second_session_labels = np.array([])\n",
    "# Iterating through filtered files\n",
    "for file in filtered_files:\n",
    "    file_path = os.path.join(raw_data_folder, file)\n",
    "\n",
    "    # Reading raw data\n",
    "    raw = mne.io.read_raw_gdf(file_path, eog=['EOG-left', 'EOG-central', 'EOG-right'], preload=True)\n",
    "    # Droping EOG channels\n",
    "    raw.drop_channels(['EOG-left', 'EOG-central', 'EOG-right'])\n",
    "\n",
    "    # High Pass Filtering 4-40 Hz\n",
    "    raw.filter(l_freq=4, h_freq=40, method='iir')\n",
    "\n",
    "    # Saving the modified raw data to a file with .fif suffix\n",
    "    new_file_path = os.path.join(cleaned_data_folder, file[:-4] + '.fif')\n",
    "    raw.save(new_file_path, overwrite=True)\n",
    "    # Appending data to t he list\n",
    "    raw_list.append(raw)\n",
    "\n",
    "    # Mat files for the labels\n",
    "    mat_file_name = file.replace('.gdf', '.mat')\n",
    "    mat_file_path = os.path.join(mat_folder, mat_file_name)\n",
    "    print(f\"data:{file}, label:{mat_file_name}\")\n",
    "\n",
    "    if os.path.exists(mat_file_path):\n",
    "        mat_data = scipy.io.loadmat(mat_file_path)\n",
    "        class_labels = mat_data.get('classlabel', [])\n",
    "\n",
    "        # Check if 'classlabel' key exists and is not empty\n",
    "        if class_labels.size > 0:\n",
    "             # Convert to a NumPy array and flatten\n",
    "            class_labels_array = np.array(class_labels, dtype=int).flatten()\n",
    "            # Concatenate with the existing test_labels array\n",
    "            second_session_labels = np.concatenate((second_session_labels, class_labels_array))\n",
    "        else:\n",
    "            print(f\"Warning: 'classlabel' not found or empty in {mat_file_name}.\")\n",
    "    else:\n",
    "        print(f\"Warning: {mat_file_name} not found.\")\n",
    "\n",
    "final_raw = mne.concatenate_raws(raw_list)\n",
    "new_file_path = os.path.join(cleaned_data_folder, 'Second_Session_Subjects.fif')\n",
    "final_raw.save(new_file_path, overwrite=True)"
   ]
  },
  {
   "cell_type": "markdown",
   "metadata": {
    "id": "kgSKXweNM87Q"
   },
   "source": [
    "**List of the events**  \n",
    "'1023': 1 Rejected trial  \n",
    "'1072': 2 Eye movements  \n",
    "'276': 3 Idling EEG (eyes open)  \n",
    "'277': 4 Idling EEG (eyes closed)  \n",
    "'32766': 5 Start of a new run  \n",
    "'768': 6 Start of a trial  \n",
    "'783': 7 Cue unknown"
   ]
  },
  {
   "cell_type": "code",
   "execution_count": 18,
   "metadata": {
    "colab": {
     "base_uri": "https://localhost:8080/"
    },
    "id": "KIuyfy9DNAvO",
    "outputId": "15e027ec-0353-47da-941e-4f9f84949453"
   },
   "outputs": [
    {
     "name": "stdout",
     "output_type": "stream",
     "text": [
      "Used Annotations descriptions: ['1023', '1072', '276', '277', '32766', '768', '783']\n"
     ]
    },
    {
     "data": {
      "text/plain": [
       "{'1023': 1, '1072': 2, '276': 3, '277': 4, '32766': 5, '768': 6, '783': 7}"
      ]
     },
     "execution_count": 18,
     "metadata": {},
     "output_type": "execute_result"
    }
   ],
   "source": [
    "events = mne.events_from_annotations(final_raw)\n",
    "events[1]"
   ]
  },
  {
   "cell_type": "code",
   "execution_count": 19,
   "metadata": {
    "colab": {
     "base_uri": "https://localhost:8080/"
    },
    "id": "KGDah5f4NCBr",
    "outputId": "1dd6688f-20ff-4d11-8d9d-f99e05fe2fd5"
   },
   "outputs": [
    {
     "name": "stdout",
     "output_type": "stream",
     "text": [
      "Not setting metadata\n",
      "2592 matching events found\n",
      "No baseline correction applied\n",
      "0 projection items activated\n",
      "Using data from preloaded Raw for 2592 events and 1001 original time points ...\n",
      "0 bad epochs dropped\n"
     ]
    }
   ],
   "source": [
    "epochs = mne.Epochs(final_raw, events[0], event_id=7, tmin=0, tmax=4, reject=None, baseline=None, preload=None)\n",
    "second_session_data = epochs.get_data(copy=True)"
   ]
  },
  {
   "cell_type": "code",
   "execution_count": 20,
   "metadata": {
    "colab": {
     "base_uri": "https://localhost:8080/"
    },
    "id": "HFCG-UXrNRSZ",
    "outputId": "9635c306-f3c4-45ee-bdc7-f9239651a296"
   },
   "outputs": [
    {
     "name": "stdout",
     "output_type": "stream",
     "text": [
      "Second Session Dataset shape: (2592, 22, 1001)\n"
     ]
    }
   ],
   "source": [
    "print(\"Second Session Dataset shape:\",second_session_data.shape)"
   ]
  },
  {
   "cell_type": "markdown",
   "metadata": {
    "id": "nA0Hr5BMPE5e"
   },
   "source": [
    "###Structuring Data"
   ]
  },
  {
   "cell_type": "code",
   "execution_count": 21,
   "metadata": {
    "colab": {
     "base_uri": "https://localhost:8080/"
    },
    "id": "D5dF6ZydC2PP",
    "outputId": "0d58f6dc-a97e-421a-d195-11f6cbc05fff"
   },
   "outputs": [
    {
     "name": "stdout",
     "output_type": "stream",
     "text": [
      "Size of X_train: torch.Size([4665, 1, 22, 1001])\n",
      "Size of X_test: torch.Size([519, 1, 22, 1001])\n",
      "Size of y_train: torch.Size([4665])\n",
      "Size of y_test: torch.Size([519])\n"
     ]
    }
   ],
   "source": [
    "# Choosing Device\n",
    "device = torch.device(\"cuda\" if torch.cuda.is_available() else \"cpu\")\n",
    "\n",
    "# Loss Function\n",
    "criterion = nn.CrossEntropyLoss()\n",
    "\n",
    "# Normalizing Labels to [0, 1, 2, 3]\n",
    "y_train = first_session_labels - np.min(first_session_labels)\n",
    "y_test = second_session_labels - np.min(second_session_labels)\n",
    "\n",
    "# Normalizing Input features: z-score(mean=0, std=1)\n",
    "X_first_session = (first_session_data - np.mean(first_session_data)) / np.std(first_session_data)\n",
    "X_second_session = (second_session_data - np.mean(second_session_data)) / np.std(second_session_data)\n",
    "\n",
    "X = np.concatenate((X_first_session, X_second_session))\n",
    "y = np.concatenate((y_train, y_test))\n",
    "\n",
    "# Spliting  Data: 90% for Train and 10% for Test\n",
    "X_train, X_test, y_train, y_test = train_test_split(X, y, test_size=0.1, random_state=42, stratify=y)\n",
    "\n",
    "# Converting to Tensor\n",
    "X_train = torch.Tensor(X_train).unsqueeze(1).to(device)\n",
    "X_test = torch.Tensor(X_test).unsqueeze(1).to(device)\n",
    "y_train = torch.LongTensor(y_train).to(device)\n",
    "y_test = torch.LongTensor(y_test).to(device)\n",
    "\n",
    "# Creating Tensor Dataset\n",
    "train_dataset = TensorDataset(X_train, y_train)\n",
    "test_dataset = TensorDataset(X_test, y_test)\n",
    "\n",
    "# Printing the sizes\n",
    "print(\"Size of X_train:\", X_train.size())\n",
    "print(\"Size of X_test:\", X_test.size())\n",
    "print(\"Size of y_train:\", y_train.size())\n",
    "print(\"Size of y_test:\", y_test.size())\n"
   ]
  },
  {
   "cell_type": "markdown",
   "metadata": {
    "id": "xyXDZiZ4E4a_"
   },
   "source": [
    "#Training Class"
   ]
  },
  {
   "cell_type": "code",
   "execution_count": 22,
   "metadata": {
    "id": "F3nUwuQHE8Hi"
   },
   "outputs": [],
   "source": [
    "class TrainModel():\n",
    "    def __init__(self,):\n",
    "        self.device = torch.device(\"cuda\" if torch.cuda.is_available() else \"cpu\")\n",
    "\n",
    "    def train_model(self, model, train_dataset, learning_rate=0.001, batch_size=64, epochs=500):\n",
    "        model = model.to(self.device)\n",
    "        criterion = nn.CrossEntropyLoss()\n",
    "        optimizer = optim.Adam(model.parameters(), lr=learning_rate)\n",
    "        train_loader = DataLoader(train_dataset, batch_size=batch_size, shuffle=True)\n",
    "        highest_train_accuracy = 0.0\n",
    "\n",
    "        for epoch in range(epochs):\n",
    "            model.train()\n",
    "            running_loss = 0.0\n",
    "            correct = 0\n",
    "            total = 0\n",
    "            for inputs, labels in train_loader:\n",
    "                inputs = inputs.to(self.device)\n",
    "                labels = labels.to(self.device)\n",
    "\n",
    "                optimizer.zero_grad()\n",
    "                outputs, _ = model(inputs)\n",
    "                loss = criterion(outputs, labels)\n",
    "                loss.backward()\n",
    "                optimizer.step()\n",
    "\n",
    "                running_loss += loss.item() * inputs.size(0)\n",
    "                _, predicted = torch.max(outputs, 1)\n",
    "                total += labels.size(0)\n",
    "                correct += (predicted == labels).sum().item()\n",
    "\n",
    "            epoch_loss = running_loss / len(train_loader.dataset)\n",
    "            epoch_accuracy = correct / total\n",
    "            if epoch_accuracy > highest_train_accuracy:\n",
    "                highest_train_accuracy = epoch_accuracy\n",
    "            print(f\"Epoch {epoch+1}/{epochs}, Loss: {epoch_loss:.4f}, Accuracy: {(epoch_accuracy*100):.2f}%\")\n",
    "\n",
    "        average_loss = running_loss / len(train_loader.dataset)\n",
    "        print(\"Average Loss:\", average_loss)\n",
    "        print(f\"Highest Train Accuracy:{(highest_train_accuracy*100):.2f}\")\n",
    "\n",
    "        # Saving model\n",
    "        torch.save(model.state_dict(), 'eegnet_model.pth')\n",
    "        return model\n"
   ]
  },
  {
   "cell_type": "markdown",
   "metadata": {
    "id": "ObMKFBTxFLBJ"
   },
   "source": [
    "#Evaluating Model"
   ]
  },
  {
   "cell_type": "code",
   "execution_count": 23,
   "metadata": {
    "id": "GxVYOQ_YFM4b"
   },
   "outputs": [],
   "source": [
    "class EvalModel():\n",
    "    def __init__(self, model):\n",
    "        self.model = model.to(device)\n",
    "        self.device = torch.device(\"cuda\" if torch.cuda.is_available() else \"cpu\")\n",
    "    def test_model(self, test_dataset):\n",
    "        self.model.eval()\n",
    "        correct = 0\n",
    "        total = 0\n",
    "        test_loader = DataLoader(test_dataset, batch_size=1, shuffle=False)\n",
    "\n",
    "        with torch.no_grad():\n",
    "            for inputs, labels in test_loader:\n",
    "                inputs = inputs.to(self.device)\n",
    "                labels = labels.to(self.device)\n",
    "                outputs, _ = self.model(inputs)\n",
    "                _, predicted = torch.max(outputs.data, 1)\n",
    "                total += labels.size(0)\n",
    "                correct += (predicted == labels).sum().item()\n",
    "\n",
    "        accuracy = (correct / total) * 100\n",
    "        print(\"/------------------------------/\")\n",
    "        print(f\"Test Accuracy: {accuracy:.2f}%\")\n",
    "        print(\"/------------------------------/\")\n",
    "        return accuracy\n",
    "\n",
    "    def plot_confusion_matrix(self, test_dataset, classes):\n",
    "        self.model.eval()\n",
    "        y_pred = []\n",
    "        y_true = []\n",
    "        test_loader = DataLoader(test_dataset, batch_size=1, shuffle=False)\n",
    "\n",
    "        with torch.no_grad():\n",
    "            for inputs, labels in test_loader:\n",
    "                inputs = inputs.to(self.device)\n",
    "                labels = labels.to(self.device)\n",
    "                outputs, _ = self.model(inputs)\n",
    "                _, predicted = torch.max(outputs.data, 1)\n",
    "                y_pred.append(predicted.item())\n",
    "                y_true.append(labels.item())\n",
    "\n",
    "        cf_matrix = confusion_matrix(y_true, y_pred)\n",
    "        cf_matrix = cf_matrix.astype('float') / cf_matrix.sum(axis=1)[:, np.newaxis]\n",
    "\n",
    "        df_cm = pd.DataFrame(cf_matrix, index=classes, columns=classes)\n",
    "\n",
    "        plt.figure(figsize=(10, 7))\n",
    "        sn.heatmap(df_cm, annot=True, cmap='Blues', fmt='.2f')\n",
    "        plt.xlabel('Predicted labels')\n",
    "        plt.ylabel('True labels')\n",
    "        plt.title('Confusion Matrix')\n",
    "        plt.savefig('confusion_matrix_model.png')\n",
    "        plt.show()\n"
   ]
  },
  {
   "cell_type": "markdown",
   "metadata": {
    "id": "vR2z57zqC5iS"
   },
   "source": [
    "#EEGNet Model"
   ]
  },
  {
   "cell_type": "code",
   "execution_count": 24,
   "metadata": {
    "id": "SmFhrHzSC8BE"
   },
   "outputs": [],
   "source": [
    "class EEGNetModel(nn.Module): # EEGNET-8,2\n",
    "    def __init__(self, chans=22, classes=4, time_points=1001, temp_kernel=32,\n",
    "                 f1=16, f2=32, d=2, pk1=8, pk2=16, dropout_rate=0.5, max_norm1=1, max_norm2=0.25):\n",
    "        super(EEGNetModel, self).__init__()\n",
    "        # Calculating FC input features\n",
    "        linear_size = (time_points//(pk1*pk2))*f2\n",
    "\n",
    "        # Temporal Filters\n",
    "        self.block1 = nn.Sequential(\n",
    "            nn.Conv2d(1, f1, (1, temp_kernel), padding='same', bias=False),\n",
    "            nn.BatchNorm2d(f1),\n",
    "        )\n",
    "        # Spatial Filters\n",
    "        self.block2 = nn.Sequential(\n",
    "            nn.Conv2d(f1, d * f1, (chans, 1), groups=f1, bias=False), # Depthwise Conv\n",
    "            nn.BatchNorm2d(d * f1),\n",
    "            nn.ELU(),\n",
    "            nn.AvgPool2d((1, pk1)),\n",
    "            nn.Dropout(dropout_rate)\n",
    "        )\n",
    "        self.block3 = nn.Sequential(\n",
    "            nn.Conv2d(d * f1, f2, (1, 16),  groups=f2, bias=False, padding='same'), # Separable Conv\n",
    "            nn.Conv2d(f2, f2, kernel_size=1, bias=False), # Pointwise Conv\n",
    "            nn.BatchNorm2d(f2),\n",
    "            nn.ELU(),\n",
    "            nn.AvgPool2d((1, pk2)),\n",
    "            nn.Dropout(dropout_rate)\n",
    "        )\n",
    "        self.flatten = nn.Flatten()\n",
    "        self.fc = nn.Linear(linear_size, classes)\n",
    "\n",
    "        # Apply max_norm constraint to the depthwise layer in block2\n",
    "        self._apply_max_norm(self.block2[0], max_norm1)\n",
    "\n",
    "        # Apply max_norm constraint to the linear layer\n",
    "        self._apply_max_norm(self.fc, max_norm2)\n",
    "\n",
    "    def _apply_max_norm(self, layer, max_norm):\n",
    "        for name, param in layer.named_parameters():\n",
    "            if 'weight' in name:\n",
    "                param.data = torch.renorm(param.data, p=2, dim=0, maxnorm=max_norm)\n",
    "\n",
    "    def forward(self, x):\n",
    "        x = self.block1(x)\n",
    "        temporal_features = x\n",
    "        x = self.block2(x)\n",
    "        spatial_features1 = x\n",
    "        x = self.block3(x)\n",
    "        spatial_features2 = x\n",
    "        x = self.flatten(x)\n",
    "        x = self.fc(x)\n",
    "        return x, [temporal_features, spatial_features1, spatial_features2]\n"
   ]
  },
  {
   "cell_type": "markdown",
   "metadata": {
    "id": "M49ks2b8C_dP"
   },
   "source": [
    "##Model Summery"
   ]
  },
  {
   "cell_type": "code",
   "execution_count": 25,
   "metadata": {
    "colab": {
     "base_uri": "https://localhost:8080/"
    },
    "id": "7NdOeIRtDAOn",
    "outputId": "26161cf5-88cd-4482-be80-f566ce699df5"
   },
   "outputs": [
    {
     "name": "stderr",
     "output_type": "stream",
     "text": [
      "/usr/local/lib/python3.10/dist-packages/torch/nn/modules/conv.py:549: UserWarning: Using padding='same' with even kernel lengths and odd dilation may require a zero-padded copy of the input be created (Triggered internally at ../aten/src/ATen/native/Convolution.cpp:1036.)\n",
      "  return F.conv2d(\n"
     ]
    },
    {
     "name": "stdout",
     "output_type": "stream",
     "text": [
      "==========================================================================================\n",
      "Layer (type:depth-idx)                   Output Shape              Param #\n",
      "==========================================================================================\n",
      "├─Sequential: 1-1                        [-1, 16, 22, 1001]        --\n",
      "|    └─Conv2d: 2-1                       [-1, 16, 22, 1001]        512\n",
      "|    └─BatchNorm2d: 2-2                  [-1, 16, 22, 1001]        32\n",
      "├─Sequential: 1-2                        [-1, 32, 1, 125]          --\n",
      "|    └─Conv2d: 2-3                       [-1, 32, 1, 1001]         704\n",
      "|    └─BatchNorm2d: 2-4                  [-1, 32, 1, 1001]         64\n",
      "|    └─ELU: 2-5                          [-1, 32, 1, 1001]         --\n",
      "|    └─AvgPool2d: 2-6                    [-1, 32, 1, 125]          --\n",
      "|    └─Dropout: 2-7                      [-1, 32, 1, 125]          --\n",
      "├─Sequential: 1-3                        [-1, 32, 1, 7]            --\n",
      "|    └─Conv2d: 2-8                       [-1, 32, 1, 125]          512\n",
      "|    └─Conv2d: 2-9                       [-1, 32, 1, 125]          1,024\n",
      "|    └─BatchNorm2d: 2-10                 [-1, 32, 1, 125]          64\n",
      "|    └─ELU: 2-11                         [-1, 32, 1, 125]          --\n",
      "|    └─AvgPool2d: 2-12                   [-1, 32, 1, 7]            --\n",
      "|    └─Dropout: 2-13                     [-1, 32, 1, 7]            --\n",
      "├─Flatten: 1-4                           [-1, 224]                 --\n",
      "├─Linear: 1-5                            [-1, 4]                   900\n",
      "==========================================================================================\n",
      "Total params: 3,812\n",
      "Trainable params: 3,812\n",
      "Non-trainable params: 0\n",
      "Total mult-adds (M): 12.18\n",
      "==========================================================================================\n",
      "Input size (MB): 0.08\n",
      "Forward/backward pass size (MB): 5.96\n",
      "Params size (MB): 0.01\n",
      "Estimated Total Size (MB): 6.06\n",
      "==========================================================================================\n"
     ]
    },
    {
     "data": {
      "text/plain": [
       "==========================================================================================\n",
       "Layer (type:depth-idx)                   Output Shape              Param #\n",
       "==========================================================================================\n",
       "├─Sequential: 1-1                        [-1, 16, 22, 1001]        --\n",
       "|    └─Conv2d: 2-1                       [-1, 16, 22, 1001]        512\n",
       "|    └─BatchNorm2d: 2-2                  [-1, 16, 22, 1001]        32\n",
       "├─Sequential: 1-2                        [-1, 32, 1, 125]          --\n",
       "|    └─Conv2d: 2-3                       [-1, 32, 1, 1001]         704\n",
       "|    └─BatchNorm2d: 2-4                  [-1, 32, 1, 1001]         64\n",
       "|    └─ELU: 2-5                          [-1, 32, 1, 1001]         --\n",
       "|    └─AvgPool2d: 2-6                    [-1, 32, 1, 125]          --\n",
       "|    └─Dropout: 2-7                      [-1, 32, 1, 125]          --\n",
       "├─Sequential: 1-3                        [-1, 32, 1, 7]            --\n",
       "|    └─Conv2d: 2-8                       [-1, 32, 1, 125]          512\n",
       "|    └─Conv2d: 2-9                       [-1, 32, 1, 125]          1,024\n",
       "|    └─BatchNorm2d: 2-10                 [-1, 32, 1, 125]          64\n",
       "|    └─ELU: 2-11                         [-1, 32, 1, 125]          --\n",
       "|    └─AvgPool2d: 2-12                   [-1, 32, 1, 7]            --\n",
       "|    └─Dropout: 2-13                     [-1, 32, 1, 7]            --\n",
       "├─Flatten: 1-4                           [-1, 224]                 --\n",
       "├─Linear: 1-5                            [-1, 4]                   900\n",
       "==========================================================================================\n",
       "Total params: 3,812\n",
       "Trainable params: 3,812\n",
       "Non-trainable params: 0\n",
       "Total mult-adds (M): 12.18\n",
       "==========================================================================================\n",
       "Input size (MB): 0.08\n",
       "Forward/backward pass size (MB): 5.96\n",
       "Params size (MB): 0.01\n",
       "Estimated Total Size (MB): 6.06\n",
       "=========================================================================================="
      ]
     },
     "execution_count": 25,
     "metadata": {},
     "output_type": "execute_result"
    }
   ],
   "source": [
    "input_size = (1, 22, 1001)\n",
    "eegnet_model = EEGNetModel().to(device)\n",
    "summary(eegnet_model, input_size)"
   ]
  },
  {
   "cell_type": "markdown",
   "metadata": {
    "id": "95r4EymoDCIv"
   },
   "source": [
    "##Training Model"
   ]
  },
  {
   "cell_type": "code",
   "execution_count": 26,
   "metadata": {
    "colab": {
     "base_uri": "https://localhost:8080/"
    },
    "id": "TJzl6On9DFcp",
    "outputId": "81bd36b8-ab33-4271-df0b-7e50c726e1a2"
   },
   "outputs": [
    {
     "name": "stdout",
     "output_type": "stream",
     "text": [
      "Epoch 1/500, Loss: 1.3698, Accuracy: 29.73%\n",
      "Epoch 2/500, Loss: 1.3318, Accuracy: 34.30%\n",
      "Epoch 3/500, Loss: 1.2930, Accuracy: 39.16%\n",
      "Epoch 4/500, Loss: 1.2624, Accuracy: 40.58%\n",
      "Epoch 5/500, Loss: 1.2399, Accuracy: 42.04%\n",
      "Epoch 6/500, Loss: 1.2233, Accuracy: 43.86%\n",
      "Epoch 7/500, Loss: 1.2047, Accuracy: 44.87%\n",
      "Epoch 8/500, Loss: 1.1963, Accuracy: 46.39%\n",
      "Epoch 9/500, Loss: 1.1950, Accuracy: 45.21%\n",
      "Epoch 10/500, Loss: 1.1942, Accuracy: 45.62%\n",
      "Epoch 11/500, Loss: 1.1760, Accuracy: 46.75%\n",
      "Epoch 12/500, Loss: 1.1801, Accuracy: 46.95%\n",
      "Epoch 13/500, Loss: 1.1662, Accuracy: 47.27%\n",
      "Epoch 14/500, Loss: 1.1575, Accuracy: 47.67%\n",
      "Epoch 15/500, Loss: 1.1434, Accuracy: 48.27%\n",
      "Epoch 16/500, Loss: 1.1452, Accuracy: 48.53%\n",
      "Epoch 17/500, Loss: 1.1322, Accuracy: 49.35%\n",
      "Epoch 18/500, Loss: 1.1319, Accuracy: 48.98%\n",
      "Epoch 19/500, Loss: 1.1153, Accuracy: 50.03%\n",
      "Epoch 20/500, Loss: 1.1292, Accuracy: 50.35%\n",
      "Epoch 21/500, Loss: 1.1164, Accuracy: 50.25%\n",
      "Epoch 22/500, Loss: 1.0973, Accuracy: 52.24%\n",
      "Epoch 23/500, Loss: 1.1003, Accuracy: 51.40%\n",
      "Epoch 24/500, Loss: 1.0998, Accuracy: 51.79%\n",
      "Epoch 25/500, Loss: 1.0859, Accuracy: 52.75%\n",
      "Epoch 26/500, Loss: 1.1000, Accuracy: 52.20%\n",
      "Epoch 27/500, Loss: 1.0801, Accuracy: 53.25%\n",
      "Epoch 28/500, Loss: 1.0871, Accuracy: 52.15%\n",
      "Epoch 29/500, Loss: 1.0732, Accuracy: 54.36%\n",
      "Epoch 30/500, Loss: 1.0728, Accuracy: 53.23%\n",
      "Epoch 31/500, Loss: 1.0724, Accuracy: 53.42%\n",
      "Epoch 32/500, Loss: 1.0509, Accuracy: 53.68%\n",
      "Epoch 33/500, Loss: 1.0462, Accuracy: 54.15%\n",
      "Epoch 34/500, Loss: 1.0575, Accuracy: 54.28%\n",
      "Epoch 35/500, Loss: 1.0363, Accuracy: 55.31%\n",
      "Epoch 36/500, Loss: 1.0603, Accuracy: 53.25%\n",
      "Epoch 37/500, Loss: 1.0449, Accuracy: 54.96%\n",
      "Epoch 38/500, Loss: 1.0479, Accuracy: 54.96%\n",
      "Epoch 39/500, Loss: 1.0491, Accuracy: 54.66%\n",
      "Epoch 40/500, Loss: 1.0628, Accuracy: 54.08%\n",
      "Epoch 41/500, Loss: 1.0256, Accuracy: 55.80%\n",
      "Epoch 42/500, Loss: 1.0253, Accuracy: 55.67%\n",
      "Epoch 43/500, Loss: 1.0399, Accuracy: 54.88%\n",
      "Epoch 44/500, Loss: 1.0302, Accuracy: 54.94%\n",
      "Epoch 45/500, Loss: 1.0147, Accuracy: 56.25%\n",
      "Epoch 46/500, Loss: 1.0230, Accuracy: 55.65%\n",
      "Epoch 47/500, Loss: 1.0240, Accuracy: 56.48%\n",
      "Epoch 48/500, Loss: 1.0177, Accuracy: 56.55%\n",
      "Epoch 49/500, Loss: 1.0020, Accuracy: 57.28%\n",
      "Epoch 50/500, Loss: 0.9978, Accuracy: 57.81%\n",
      "Epoch 51/500, Loss: 0.9958, Accuracy: 58.03%\n",
      "Epoch 52/500, Loss: 1.0035, Accuracy: 57.26%\n",
      "Epoch 53/500, Loss: 1.0057, Accuracy: 56.44%\n",
      "Epoch 54/500, Loss: 1.0089, Accuracy: 57.66%\n",
      "Epoch 55/500, Loss: 0.9923, Accuracy: 57.73%\n",
      "Epoch 56/500, Loss: 0.9926, Accuracy: 58.14%\n",
      "Epoch 57/500, Loss: 0.9818, Accuracy: 57.83%\n",
      "Epoch 58/500, Loss: 0.9845, Accuracy: 58.82%\n",
      "Epoch 59/500, Loss: 0.9854, Accuracy: 58.11%\n",
      "Epoch 60/500, Loss: 0.9906, Accuracy: 58.37%\n",
      "Epoch 61/500, Loss: 0.9860, Accuracy: 57.49%\n",
      "Epoch 62/500, Loss: 0.9890, Accuracy: 57.62%\n",
      "Epoch 63/500, Loss: 0.9769, Accuracy: 59.42%\n",
      "Epoch 64/500, Loss: 0.9706, Accuracy: 58.95%\n",
      "Epoch 65/500, Loss: 0.9760, Accuracy: 58.24%\n",
      "Epoch 66/500, Loss: 0.9830, Accuracy: 58.16%\n",
      "Epoch 67/500, Loss: 0.9757, Accuracy: 59.59%\n",
      "Epoch 68/500, Loss: 0.9759, Accuracy: 58.54%\n",
      "Epoch 69/500, Loss: 0.9691, Accuracy: 58.97%\n",
      "Epoch 70/500, Loss: 0.9648, Accuracy: 59.29%\n",
      "Epoch 71/500, Loss: 0.9717, Accuracy: 58.78%\n",
      "Epoch 72/500, Loss: 0.9639, Accuracy: 59.55%\n",
      "Epoch 73/500, Loss: 0.9695, Accuracy: 59.83%\n",
      "Epoch 74/500, Loss: 0.9701, Accuracy: 58.67%\n",
      "Epoch 75/500, Loss: 0.9645, Accuracy: 58.80%\n",
      "Epoch 76/500, Loss: 0.9557, Accuracy: 59.29%\n",
      "Epoch 77/500, Loss: 0.9646, Accuracy: 59.31%\n",
      "Epoch 78/500, Loss: 0.9590, Accuracy: 59.19%\n",
      "Epoch 79/500, Loss: 0.9604, Accuracy: 59.42%\n",
      "Epoch 80/500, Loss: 0.9484, Accuracy: 59.85%\n",
      "Epoch 81/500, Loss: 0.9556, Accuracy: 59.83%\n",
      "Epoch 82/500, Loss: 0.9349, Accuracy: 61.24%\n",
      "Epoch 83/500, Loss: 0.9433, Accuracy: 60.79%\n",
      "Epoch 84/500, Loss: 0.9479, Accuracy: 60.02%\n",
      "Epoch 85/500, Loss: 0.9311, Accuracy: 60.36%\n",
      "Epoch 86/500, Loss: 0.9319, Accuracy: 61.50%\n",
      "Epoch 87/500, Loss: 0.9488, Accuracy: 60.34%\n",
      "Epoch 88/500, Loss: 0.9376, Accuracy: 61.22%\n",
      "Epoch 89/500, Loss: 0.9283, Accuracy: 60.75%\n",
      "Epoch 90/500, Loss: 0.9290, Accuracy: 60.64%\n",
      "Epoch 91/500, Loss: 0.9337, Accuracy: 61.20%\n",
      "Epoch 92/500, Loss: 0.9295, Accuracy: 61.24%\n",
      "Epoch 93/500, Loss: 0.9367, Accuracy: 60.26%\n",
      "Epoch 94/500, Loss: 0.9281, Accuracy: 61.48%\n",
      "Epoch 95/500, Loss: 0.9404, Accuracy: 60.94%\n",
      "Epoch 96/500, Loss: 0.9302, Accuracy: 61.54%\n",
      "Epoch 97/500, Loss: 0.9314, Accuracy: 61.48%\n",
      "Epoch 98/500, Loss: 0.9257, Accuracy: 60.77%\n",
      "Epoch 99/500, Loss: 0.9316, Accuracy: 60.47%\n",
      "Epoch 100/500, Loss: 0.9277, Accuracy: 61.63%\n",
      "Epoch 101/500, Loss: 0.9221, Accuracy: 61.97%\n",
      "Epoch 102/500, Loss: 0.9197, Accuracy: 62.53%\n",
      "Epoch 103/500, Loss: 0.9185, Accuracy: 61.59%\n",
      "Epoch 104/500, Loss: 0.9100, Accuracy: 62.53%\n",
      "Epoch 105/500, Loss: 0.9164, Accuracy: 61.67%\n",
      "Epoch 106/500, Loss: 0.9280, Accuracy: 61.11%\n",
      "Epoch 107/500, Loss: 0.9147, Accuracy: 61.11%\n",
      "Epoch 108/500, Loss: 0.9195, Accuracy: 60.86%\n",
      "Epoch 109/500, Loss: 0.9155, Accuracy: 61.89%\n",
      "Epoch 110/500, Loss: 0.9286, Accuracy: 61.33%\n",
      "Epoch 111/500, Loss: 0.9182, Accuracy: 61.78%\n",
      "Epoch 112/500, Loss: 0.9215, Accuracy: 62.29%\n",
      "Epoch 113/500, Loss: 0.9151, Accuracy: 61.99%\n",
      "Epoch 114/500, Loss: 0.9171, Accuracy: 61.48%\n",
      "Epoch 115/500, Loss: 0.9271, Accuracy: 61.31%\n",
      "Epoch 116/500, Loss: 0.9163, Accuracy: 61.69%\n",
      "Epoch 117/500, Loss: 0.9182, Accuracy: 62.06%\n",
      "Epoch 118/500, Loss: 0.9060, Accuracy: 62.87%\n",
      "Epoch 119/500, Loss: 0.8973, Accuracy: 63.32%\n",
      "Epoch 120/500, Loss: 0.9101, Accuracy: 61.67%\n",
      "Epoch 121/500, Loss: 0.9105, Accuracy: 61.93%\n",
      "Epoch 122/500, Loss: 0.9238, Accuracy: 62.77%\n",
      "Epoch 123/500, Loss: 0.9021, Accuracy: 62.77%\n",
      "Epoch 124/500, Loss: 0.9090, Accuracy: 62.55%\n",
      "Epoch 125/500, Loss: 0.9106, Accuracy: 61.89%\n",
      "Epoch 126/500, Loss: 0.9221, Accuracy: 60.81%\n",
      "Epoch 127/500, Loss: 0.9129, Accuracy: 62.08%\n",
      "Epoch 128/500, Loss: 0.8976, Accuracy: 62.85%\n",
      "Epoch 129/500, Loss: 0.8969, Accuracy: 62.81%\n",
      "Epoch 130/500, Loss: 0.8881, Accuracy: 63.11%\n",
      "Epoch 131/500, Loss: 0.9017, Accuracy: 62.21%\n",
      "Epoch 132/500, Loss: 0.8878, Accuracy: 62.89%\n",
      "Epoch 133/500, Loss: 0.8919, Accuracy: 62.21%\n",
      "Epoch 134/500, Loss: 0.8930, Accuracy: 62.62%\n",
      "Epoch 135/500, Loss: 0.8963, Accuracy: 63.09%\n",
      "Epoch 136/500, Loss: 0.9009, Accuracy: 62.94%\n",
      "Epoch 137/500, Loss: 0.8986, Accuracy: 63.37%\n",
      "Epoch 138/500, Loss: 0.8858, Accuracy: 63.84%\n",
      "Epoch 139/500, Loss: 0.9015, Accuracy: 62.98%\n",
      "Epoch 140/500, Loss: 0.8885, Accuracy: 63.00%\n",
      "Epoch 141/500, Loss: 0.8897, Accuracy: 63.60%\n",
      "Epoch 142/500, Loss: 0.8909, Accuracy: 62.77%\n",
      "Epoch 143/500, Loss: 0.8909, Accuracy: 63.04%\n",
      "Epoch 144/500, Loss: 0.8882, Accuracy: 63.28%\n",
      "Epoch 145/500, Loss: 0.8909, Accuracy: 62.81%\n",
      "Epoch 146/500, Loss: 0.8893, Accuracy: 62.77%\n",
      "Epoch 147/500, Loss: 0.8837, Accuracy: 63.41%\n",
      "Epoch 148/500, Loss: 0.8733, Accuracy: 64.54%\n",
      "Epoch 149/500, Loss: 0.8914, Accuracy: 63.11%\n",
      "Epoch 150/500, Loss: 0.8835, Accuracy: 63.79%\n",
      "Epoch 151/500, Loss: 0.9169, Accuracy: 61.89%\n",
      "Epoch 152/500, Loss: 0.8836, Accuracy: 62.89%\n",
      "Epoch 153/500, Loss: 0.8692, Accuracy: 63.73%\n",
      "Epoch 154/500, Loss: 0.8834, Accuracy: 63.52%\n",
      "Epoch 155/500, Loss: 0.8924, Accuracy: 63.56%\n",
      "Epoch 156/500, Loss: 0.8777, Accuracy: 63.92%\n",
      "Epoch 157/500, Loss: 0.8788, Accuracy: 63.60%\n",
      "Epoch 158/500, Loss: 0.8859, Accuracy: 63.79%\n",
      "Epoch 159/500, Loss: 0.8696, Accuracy: 64.50%\n",
      "Epoch 160/500, Loss: 0.8766, Accuracy: 63.11%\n",
      "Epoch 161/500, Loss: 0.8819, Accuracy: 62.98%\n",
      "Epoch 162/500, Loss: 0.8759, Accuracy: 63.41%\n",
      "Epoch 163/500, Loss: 0.8773, Accuracy: 63.52%\n",
      "Epoch 164/500, Loss: 0.8689, Accuracy: 64.24%\n",
      "Epoch 165/500, Loss: 0.8786, Accuracy: 63.71%\n",
      "Epoch 166/500, Loss: 0.8884, Accuracy: 63.19%\n",
      "Epoch 167/500, Loss: 0.8983, Accuracy: 63.09%\n",
      "Epoch 168/500, Loss: 0.8691, Accuracy: 63.97%\n",
      "Epoch 169/500, Loss: 0.8776, Accuracy: 62.98%\n",
      "Epoch 170/500, Loss: 0.8773, Accuracy: 63.79%\n",
      "Epoch 171/500, Loss: 0.8638, Accuracy: 63.67%\n",
      "Epoch 172/500, Loss: 0.8794, Accuracy: 63.99%\n",
      "Epoch 173/500, Loss: 0.8744, Accuracy: 63.90%\n",
      "Epoch 174/500, Loss: 0.8836, Accuracy: 63.09%\n",
      "Epoch 175/500, Loss: 0.8787, Accuracy: 64.22%\n",
      "Epoch 176/500, Loss: 0.8697, Accuracy: 64.07%\n",
      "Epoch 177/500, Loss: 0.8765, Accuracy: 63.88%\n",
      "Epoch 178/500, Loss: 0.8758, Accuracy: 63.56%\n",
      "Epoch 179/500, Loss: 0.8602, Accuracy: 64.80%\n",
      "Epoch 180/500, Loss: 0.8752, Accuracy: 64.31%\n",
      "Epoch 181/500, Loss: 0.8689, Accuracy: 63.86%\n",
      "Epoch 182/500, Loss: 0.8631, Accuracy: 64.12%\n",
      "Epoch 183/500, Loss: 0.8683, Accuracy: 64.59%\n",
      "Epoch 184/500, Loss: 0.8801, Accuracy: 63.45%\n",
      "Epoch 185/500, Loss: 0.8654, Accuracy: 63.92%\n",
      "Epoch 186/500, Loss: 0.8763, Accuracy: 63.79%\n",
      "Epoch 187/500, Loss: 0.8679, Accuracy: 63.49%\n",
      "Epoch 188/500, Loss: 0.8735, Accuracy: 63.62%\n",
      "Epoch 189/500, Loss: 0.8682, Accuracy: 64.35%\n",
      "Epoch 190/500, Loss: 0.8809, Accuracy: 63.75%\n",
      "Epoch 191/500, Loss: 0.8642, Accuracy: 65.32%\n",
      "Epoch 192/500, Loss: 0.8763, Accuracy: 63.56%\n",
      "Epoch 193/500, Loss: 0.8689, Accuracy: 63.67%\n",
      "Epoch 194/500, Loss: 0.8585, Accuracy: 65.44%\n",
      "Epoch 195/500, Loss: 0.8520, Accuracy: 64.37%\n",
      "Epoch 196/500, Loss: 0.8626, Accuracy: 65.04%\n",
      "Epoch 197/500, Loss: 0.8490, Accuracy: 65.25%\n",
      "Epoch 198/500, Loss: 0.8703, Accuracy: 64.01%\n",
      "Epoch 199/500, Loss: 0.8580, Accuracy: 65.92%\n",
      "Epoch 200/500, Loss: 0.8670, Accuracy: 63.69%\n",
      "Epoch 201/500, Loss: 0.8610, Accuracy: 65.04%\n",
      "Epoch 202/500, Loss: 0.8563, Accuracy: 65.25%\n",
      "Epoch 203/500, Loss: 0.8548, Accuracy: 64.61%\n",
      "Epoch 204/500, Loss: 0.8556, Accuracy: 65.34%\n",
      "Epoch 205/500, Loss: 0.8711, Accuracy: 64.05%\n",
      "Epoch 206/500, Loss: 0.8451, Accuracy: 65.98%\n",
      "Epoch 207/500, Loss: 0.8532, Accuracy: 65.51%\n",
      "Epoch 208/500, Loss: 0.8677, Accuracy: 64.54%\n",
      "Epoch 209/500, Loss: 0.8399, Accuracy: 65.29%\n",
      "Epoch 210/500, Loss: 0.8736, Accuracy: 64.03%\n",
      "Epoch 211/500, Loss: 0.8531, Accuracy: 65.06%\n",
      "Epoch 212/500, Loss: 0.8423, Accuracy: 65.57%\n",
      "Epoch 213/500, Loss: 0.8594, Accuracy: 65.23%\n",
      "Epoch 214/500, Loss: 0.8697, Accuracy: 64.67%\n",
      "Epoch 215/500, Loss: 0.8554, Accuracy: 65.29%\n",
      "Epoch 216/500, Loss: 0.8498, Accuracy: 65.42%\n",
      "Epoch 217/500, Loss: 0.8453, Accuracy: 65.53%\n",
      "Epoch 218/500, Loss: 0.8470, Accuracy: 64.95%\n",
      "Epoch 219/500, Loss: 0.8530, Accuracy: 65.29%\n",
      "Epoch 220/500, Loss: 0.8660, Accuracy: 65.17%\n",
      "Epoch 221/500, Loss: 0.8464, Accuracy: 65.06%\n",
      "Epoch 222/500, Loss: 0.8595, Accuracy: 64.59%\n",
      "Epoch 223/500, Loss: 0.8523, Accuracy: 65.19%\n",
      "Epoch 224/500, Loss: 0.8402, Accuracy: 65.21%\n",
      "Epoch 225/500, Loss: 0.8481, Accuracy: 65.40%\n",
      "Epoch 226/500, Loss: 0.8417, Accuracy: 65.51%\n",
      "Epoch 227/500, Loss: 0.8553, Accuracy: 64.91%\n",
      "Epoch 228/500, Loss: 0.8486, Accuracy: 65.68%\n",
      "Epoch 229/500, Loss: 0.8639, Accuracy: 65.29%\n",
      "Epoch 230/500, Loss: 0.8456, Accuracy: 64.82%\n",
      "Epoch 231/500, Loss: 0.8538, Accuracy: 64.82%\n",
      "Epoch 232/500, Loss: 0.8400, Accuracy: 65.59%\n",
      "Epoch 233/500, Loss: 0.8536, Accuracy: 65.06%\n",
      "Epoch 234/500, Loss: 0.8485, Accuracy: 64.65%\n",
      "Epoch 235/500, Loss: 0.8513, Accuracy: 65.66%\n",
      "Epoch 236/500, Loss: 0.8361, Accuracy: 65.32%\n",
      "Epoch 237/500, Loss: 0.8309, Accuracy: 65.25%\n",
      "Epoch 238/500, Loss: 0.8493, Accuracy: 64.48%\n",
      "Epoch 239/500, Loss: 0.8430, Accuracy: 65.51%\n",
      "Epoch 240/500, Loss: 0.8550, Accuracy: 64.91%\n",
      "Epoch 241/500, Loss: 0.8441, Accuracy: 65.08%\n",
      "Epoch 242/500, Loss: 0.8210, Accuracy: 66.30%\n",
      "Epoch 243/500, Loss: 0.8488, Accuracy: 65.55%\n",
      "Epoch 244/500, Loss: 0.8494, Accuracy: 64.24%\n",
      "Epoch 245/500, Loss: 0.8400, Accuracy: 66.62%\n",
      "Epoch 246/500, Loss: 0.8518, Accuracy: 65.06%\n",
      "Epoch 247/500, Loss: 0.8239, Accuracy: 66.84%\n",
      "Epoch 248/500, Loss: 0.8354, Accuracy: 66.22%\n",
      "Epoch 249/500, Loss: 0.8423, Accuracy: 65.27%\n",
      "Epoch 250/500, Loss: 0.8317, Accuracy: 66.41%\n",
      "Epoch 251/500, Loss: 0.8542, Accuracy: 65.08%\n",
      "Epoch 252/500, Loss: 0.8333, Accuracy: 65.55%\n",
      "Epoch 253/500, Loss: 0.8400, Accuracy: 65.55%\n",
      "Epoch 254/500, Loss: 0.8346, Accuracy: 65.47%\n",
      "Epoch 255/500, Loss: 0.8331, Accuracy: 66.52%\n",
      "Epoch 256/500, Loss: 0.8348, Accuracy: 66.02%\n",
      "Epoch 257/500, Loss: 0.8411, Accuracy: 65.17%\n",
      "Epoch 258/500, Loss: 0.8675, Accuracy: 64.72%\n",
      "Epoch 259/500, Loss: 0.8285, Accuracy: 66.99%\n",
      "Epoch 260/500, Loss: 0.8448, Accuracy: 65.68%\n",
      "Epoch 261/500, Loss: 0.8343, Accuracy: 65.68%\n",
      "Epoch 262/500, Loss: 0.8426, Accuracy: 65.74%\n",
      "Epoch 263/500, Loss: 0.8345, Accuracy: 66.11%\n",
      "Epoch 264/500, Loss: 0.8297, Accuracy: 66.69%\n",
      "Epoch 265/500, Loss: 0.8489, Accuracy: 65.40%\n",
      "Epoch 266/500, Loss: 0.8281, Accuracy: 66.39%\n",
      "Epoch 267/500, Loss: 0.8399, Accuracy: 65.83%\n",
      "Epoch 268/500, Loss: 0.8429, Accuracy: 65.66%\n",
      "Epoch 269/500, Loss: 0.8216, Accuracy: 67.22%\n",
      "Epoch 270/500, Loss: 0.8260, Accuracy: 66.24%\n",
      "Epoch 271/500, Loss: 0.8435, Accuracy: 65.40%\n",
      "Epoch 272/500, Loss: 0.8241, Accuracy: 66.45%\n",
      "Epoch 273/500, Loss: 0.8382, Accuracy: 65.94%\n",
      "Epoch 274/500, Loss: 0.8339, Accuracy: 66.45%\n",
      "Epoch 275/500, Loss: 0.8351, Accuracy: 65.70%\n",
      "Epoch 276/500, Loss: 0.8281, Accuracy: 66.07%\n",
      "Epoch 277/500, Loss: 0.8378, Accuracy: 65.62%\n",
      "Epoch 278/500, Loss: 0.8493, Accuracy: 64.80%\n",
      "Epoch 279/500, Loss: 0.8250, Accuracy: 66.86%\n",
      "Epoch 280/500, Loss: 0.8314, Accuracy: 66.02%\n",
      "Epoch 281/500, Loss: 0.8480, Accuracy: 65.42%\n",
      "Epoch 282/500, Loss: 0.8286, Accuracy: 66.20%\n",
      "Epoch 283/500, Loss: 0.8502, Accuracy: 65.32%\n",
      "Epoch 284/500, Loss: 0.8328, Accuracy: 66.32%\n",
      "Epoch 285/500, Loss: 0.8295, Accuracy: 66.17%\n",
      "Epoch 286/500, Loss: 0.8227, Accuracy: 66.84%\n",
      "Epoch 287/500, Loss: 0.8464, Accuracy: 64.61%\n",
      "Epoch 288/500, Loss: 0.8302, Accuracy: 66.20%\n",
      "Epoch 289/500, Loss: 0.8441, Accuracy: 65.81%\n",
      "Epoch 290/500, Loss: 0.8267, Accuracy: 66.32%\n",
      "Epoch 291/500, Loss: 0.8197, Accuracy: 67.12%\n",
      "Epoch 292/500, Loss: 0.8323, Accuracy: 66.62%\n",
      "Epoch 293/500, Loss: 0.8271, Accuracy: 65.98%\n",
      "Epoch 294/500, Loss: 0.8345, Accuracy: 65.72%\n",
      "Epoch 295/500, Loss: 0.8244, Accuracy: 66.65%\n",
      "Epoch 296/500, Loss: 0.8291, Accuracy: 66.71%\n",
      "Epoch 297/500, Loss: 0.8448, Accuracy: 65.57%\n",
      "Epoch 298/500, Loss: 0.8347, Accuracy: 65.87%\n",
      "Epoch 299/500, Loss: 0.8211, Accuracy: 66.43%\n",
      "Epoch 300/500, Loss: 0.8236, Accuracy: 66.20%\n",
      "Epoch 301/500, Loss: 0.8410, Accuracy: 66.09%\n",
      "Epoch 302/500, Loss: 0.8259, Accuracy: 66.56%\n",
      "Epoch 303/500, Loss: 0.8274, Accuracy: 66.92%\n",
      "Epoch 304/500, Loss: 0.8309, Accuracy: 66.82%\n",
      "Epoch 305/500, Loss: 0.8321, Accuracy: 66.05%\n",
      "Epoch 306/500, Loss: 0.8367, Accuracy: 66.39%\n",
      "Epoch 307/500, Loss: 0.8304, Accuracy: 66.50%\n",
      "Epoch 308/500, Loss: 0.8294, Accuracy: 66.56%\n",
      "Epoch 309/500, Loss: 0.8261, Accuracy: 67.14%\n",
      "Epoch 310/500, Loss: 0.8154, Accuracy: 67.03%\n",
      "Epoch 311/500, Loss: 0.8245, Accuracy: 66.41%\n",
      "Epoch 312/500, Loss: 0.8275, Accuracy: 65.49%\n",
      "Epoch 313/500, Loss: 0.8354, Accuracy: 66.07%\n",
      "Epoch 314/500, Loss: 0.8288, Accuracy: 66.15%\n",
      "Epoch 315/500, Loss: 0.8059, Accuracy: 68.02%\n",
      "Epoch 316/500, Loss: 0.8361, Accuracy: 65.40%\n",
      "Epoch 317/500, Loss: 0.8410, Accuracy: 65.70%\n",
      "Epoch 318/500, Loss: 0.8119, Accuracy: 66.30%\n",
      "Epoch 319/500, Loss: 0.8202, Accuracy: 67.10%\n",
      "Epoch 320/500, Loss: 0.8320, Accuracy: 65.89%\n",
      "Epoch 321/500, Loss: 0.8344, Accuracy: 67.03%\n",
      "Epoch 322/500, Loss: 0.8153, Accuracy: 67.12%\n",
      "Epoch 323/500, Loss: 0.8268, Accuracy: 65.87%\n",
      "Epoch 324/500, Loss: 0.8091, Accuracy: 66.35%\n",
      "Epoch 325/500, Loss: 0.8103, Accuracy: 66.60%\n",
      "Epoch 326/500, Loss: 0.8175, Accuracy: 66.75%\n",
      "Epoch 327/500, Loss: 0.8356, Accuracy: 66.05%\n",
      "Epoch 328/500, Loss: 0.8240, Accuracy: 65.49%\n",
      "Epoch 329/500, Loss: 0.8246, Accuracy: 66.45%\n",
      "Epoch 330/500, Loss: 0.8202, Accuracy: 66.77%\n",
      "Epoch 331/500, Loss: 0.8323, Accuracy: 65.49%\n",
      "Epoch 332/500, Loss: 0.8192, Accuracy: 66.52%\n",
      "Epoch 333/500, Loss: 0.8251, Accuracy: 66.28%\n",
      "Epoch 334/500, Loss: 0.8045, Accuracy: 67.31%\n",
      "Epoch 335/500, Loss: 0.8231, Accuracy: 66.35%\n",
      "Epoch 336/500, Loss: 0.8157, Accuracy: 67.33%\n",
      "Epoch 337/500, Loss: 0.8211, Accuracy: 66.02%\n",
      "Epoch 338/500, Loss: 0.8304, Accuracy: 66.00%\n",
      "Epoch 339/500, Loss: 0.8159, Accuracy: 66.95%\n",
      "Epoch 340/500, Loss: 0.8366, Accuracy: 65.44%\n",
      "Epoch 341/500, Loss: 0.8169, Accuracy: 67.37%\n",
      "Epoch 342/500, Loss: 0.8160, Accuracy: 67.07%\n",
      "Epoch 343/500, Loss: 0.8128, Accuracy: 67.29%\n",
      "Epoch 344/500, Loss: 0.8169, Accuracy: 67.57%\n",
      "Epoch 345/500, Loss: 0.8208, Accuracy: 66.32%\n",
      "Epoch 346/500, Loss: 0.8210, Accuracy: 66.47%\n",
      "Epoch 347/500, Loss: 0.8168, Accuracy: 66.69%\n",
      "Epoch 348/500, Loss: 0.8195, Accuracy: 66.92%\n",
      "Epoch 349/500, Loss: 0.8267, Accuracy: 66.65%\n",
      "Epoch 350/500, Loss: 0.8140, Accuracy: 66.71%\n",
      "Epoch 351/500, Loss: 0.8298, Accuracy: 65.53%\n",
      "Epoch 352/500, Loss: 0.8029, Accuracy: 67.57%\n",
      "Epoch 353/500, Loss: 0.8190, Accuracy: 67.20%\n",
      "Epoch 354/500, Loss: 0.8333, Accuracy: 65.64%\n",
      "Epoch 355/500, Loss: 0.8225, Accuracy: 66.50%\n",
      "Epoch 356/500, Loss: 0.8162, Accuracy: 67.05%\n",
      "Epoch 357/500, Loss: 0.8298, Accuracy: 66.09%\n",
      "Epoch 358/500, Loss: 0.8211, Accuracy: 66.54%\n",
      "Epoch 359/500, Loss: 0.8039, Accuracy: 67.37%\n",
      "Epoch 360/500, Loss: 0.8111, Accuracy: 67.14%\n",
      "Epoch 361/500, Loss: 0.8243, Accuracy: 66.43%\n",
      "Epoch 362/500, Loss: 0.8089, Accuracy: 66.88%\n",
      "Epoch 363/500, Loss: 0.8038, Accuracy: 66.99%\n",
      "Epoch 364/500, Loss: 0.8264, Accuracy: 66.24%\n",
      "Epoch 365/500, Loss: 0.8053, Accuracy: 67.33%\n",
      "Epoch 366/500, Loss: 0.8086, Accuracy: 66.95%\n",
      "Epoch 367/500, Loss: 0.8140, Accuracy: 67.05%\n",
      "Epoch 368/500, Loss: 0.8030, Accuracy: 67.46%\n",
      "Epoch 369/500, Loss: 0.8186, Accuracy: 66.28%\n",
      "Epoch 370/500, Loss: 0.8253, Accuracy: 66.86%\n",
      "Epoch 371/500, Loss: 0.8026, Accuracy: 67.46%\n",
      "Epoch 372/500, Loss: 0.8209, Accuracy: 67.03%\n",
      "Epoch 373/500, Loss: 0.8124, Accuracy: 66.90%\n",
      "Epoch 374/500, Loss: 0.8237, Accuracy: 66.56%\n",
      "Epoch 375/500, Loss: 0.8187, Accuracy: 66.97%\n",
      "Epoch 376/500, Loss: 0.8085, Accuracy: 67.14%\n",
      "Epoch 377/500, Loss: 0.8204, Accuracy: 66.62%\n",
      "Epoch 378/500, Loss: 0.8019, Accuracy: 67.50%\n",
      "Epoch 379/500, Loss: 0.7935, Accuracy: 67.29%\n",
      "Epoch 380/500, Loss: 0.8124, Accuracy: 67.14%\n",
      "Epoch 381/500, Loss: 0.8258, Accuracy: 66.71%\n",
      "Epoch 382/500, Loss: 0.8222, Accuracy: 66.20%\n",
      "Epoch 383/500, Loss: 0.8128, Accuracy: 67.37%\n",
      "Epoch 384/500, Loss: 0.8109, Accuracy: 67.20%\n",
      "Epoch 385/500, Loss: 0.8164, Accuracy: 67.01%\n",
      "Epoch 386/500, Loss: 0.8097, Accuracy: 66.84%\n",
      "Epoch 387/500, Loss: 0.8143, Accuracy: 66.45%\n",
      "Epoch 388/500, Loss: 0.8006, Accuracy: 66.99%\n",
      "Epoch 389/500, Loss: 0.7922, Accuracy: 68.53%\n",
      "Epoch 390/500, Loss: 0.8022, Accuracy: 67.33%\n",
      "Epoch 391/500, Loss: 0.8168, Accuracy: 66.88%\n",
      "Epoch 392/500, Loss: 0.7962, Accuracy: 67.52%\n",
      "Epoch 393/500, Loss: 0.8019, Accuracy: 67.87%\n",
      "Epoch 394/500, Loss: 0.8221, Accuracy: 65.96%\n",
      "Epoch 395/500, Loss: 0.8008, Accuracy: 68.21%\n",
      "Epoch 396/500, Loss: 0.8056, Accuracy: 67.70%\n",
      "Epoch 397/500, Loss: 0.8021, Accuracy: 67.57%\n",
      "Epoch 398/500, Loss: 0.8038, Accuracy: 66.32%\n",
      "Epoch 399/500, Loss: 0.8020, Accuracy: 67.29%\n",
      "Epoch 400/500, Loss: 0.7907, Accuracy: 67.67%\n",
      "Epoch 401/500, Loss: 0.8101, Accuracy: 67.61%\n",
      "Epoch 402/500, Loss: 0.8078, Accuracy: 66.92%\n",
      "Epoch 403/500, Loss: 0.8111, Accuracy: 67.33%\n",
      "Epoch 404/500, Loss: 0.8051, Accuracy: 67.74%\n",
      "Epoch 405/500, Loss: 0.7974, Accuracy: 66.99%\n",
      "Epoch 406/500, Loss: 0.7930, Accuracy: 67.65%\n",
      "Epoch 407/500, Loss: 0.8098, Accuracy: 66.75%\n",
      "Epoch 408/500, Loss: 0.7963, Accuracy: 67.76%\n",
      "Epoch 409/500, Loss: 0.8005, Accuracy: 67.37%\n",
      "Epoch 410/500, Loss: 0.8051, Accuracy: 66.82%\n",
      "Epoch 411/500, Loss: 0.8023, Accuracy: 66.95%\n",
      "Epoch 412/500, Loss: 0.7899, Accuracy: 68.10%\n",
      "Epoch 413/500, Loss: 0.8055, Accuracy: 66.02%\n",
      "Epoch 414/500, Loss: 0.7900, Accuracy: 68.79%\n",
      "Epoch 415/500, Loss: 0.8085, Accuracy: 67.44%\n",
      "Epoch 416/500, Loss: 0.8130, Accuracy: 66.80%\n",
      "Epoch 417/500, Loss: 0.8047, Accuracy: 67.05%\n",
      "Epoch 418/500, Loss: 0.8087, Accuracy: 67.20%\n",
      "Epoch 419/500, Loss: 0.8032, Accuracy: 67.01%\n",
      "Epoch 420/500, Loss: 0.8060, Accuracy: 67.05%\n",
      "Epoch 421/500, Loss: 0.8079, Accuracy: 67.12%\n",
      "Epoch 422/500, Loss: 0.7988, Accuracy: 67.29%\n",
      "Epoch 423/500, Loss: 0.8018, Accuracy: 67.52%\n",
      "Epoch 424/500, Loss: 0.8002, Accuracy: 67.27%\n",
      "Epoch 425/500, Loss: 0.8016, Accuracy: 67.70%\n",
      "Epoch 426/500, Loss: 0.8079, Accuracy: 67.16%\n",
      "Epoch 427/500, Loss: 0.8059, Accuracy: 67.46%\n",
      "Epoch 428/500, Loss: 0.8097, Accuracy: 67.48%\n",
      "Epoch 429/500, Loss: 0.8130, Accuracy: 66.69%\n",
      "Epoch 430/500, Loss: 0.7991, Accuracy: 68.10%\n",
      "Epoch 431/500, Loss: 0.8101, Accuracy: 67.20%\n",
      "Epoch 432/500, Loss: 0.7865, Accuracy: 68.32%\n",
      "Epoch 433/500, Loss: 0.7996, Accuracy: 67.76%\n",
      "Epoch 434/500, Loss: 0.7902, Accuracy: 68.15%\n",
      "Epoch 435/500, Loss: 0.7904, Accuracy: 67.67%\n",
      "Epoch 436/500, Loss: 0.8049, Accuracy: 67.48%\n",
      "Epoch 437/500, Loss: 0.8053, Accuracy: 67.87%\n",
      "Epoch 438/500, Loss: 0.8057, Accuracy: 67.65%\n",
      "Epoch 439/500, Loss: 0.8002, Accuracy: 68.10%\n",
      "Epoch 440/500, Loss: 0.7994, Accuracy: 67.70%\n",
      "Epoch 441/500, Loss: 0.7985, Accuracy: 67.31%\n",
      "Epoch 442/500, Loss: 0.7946, Accuracy: 67.52%\n",
      "Epoch 443/500, Loss: 0.8053, Accuracy: 67.44%\n",
      "Epoch 444/500, Loss: 0.8034, Accuracy: 66.84%\n",
      "Epoch 445/500, Loss: 0.7965, Accuracy: 68.08%\n",
      "Epoch 446/500, Loss: 0.7971, Accuracy: 67.52%\n",
      "Epoch 447/500, Loss: 0.8180, Accuracy: 66.99%\n",
      "Epoch 448/500, Loss: 0.7874, Accuracy: 68.12%\n",
      "Epoch 449/500, Loss: 0.8046, Accuracy: 67.40%\n",
      "Epoch 450/500, Loss: 0.7943, Accuracy: 67.10%\n",
      "Epoch 451/500, Loss: 0.7973, Accuracy: 67.80%\n",
      "Epoch 452/500, Loss: 0.8024, Accuracy: 67.95%\n",
      "Epoch 453/500, Loss: 0.7842, Accuracy: 68.94%\n",
      "Epoch 454/500, Loss: 0.7960, Accuracy: 67.95%\n",
      "Epoch 455/500, Loss: 0.7894, Accuracy: 68.55%\n",
      "Epoch 456/500, Loss: 0.8179, Accuracy: 66.80%\n",
      "Epoch 457/500, Loss: 0.7960, Accuracy: 67.07%\n",
      "Epoch 458/500, Loss: 0.8026, Accuracy: 67.57%\n",
      "Epoch 459/500, Loss: 0.8174, Accuracy: 67.10%\n",
      "Epoch 460/500, Loss: 0.7939, Accuracy: 68.17%\n",
      "Epoch 461/500, Loss: 0.8046, Accuracy: 67.52%\n",
      "Epoch 462/500, Loss: 0.8047, Accuracy: 67.78%\n",
      "Epoch 463/500, Loss: 0.7953, Accuracy: 67.91%\n",
      "Epoch 464/500, Loss: 0.7828, Accuracy: 67.89%\n",
      "Epoch 465/500, Loss: 0.7986, Accuracy: 67.25%\n",
      "Epoch 466/500, Loss: 0.8065, Accuracy: 67.61%\n",
      "Epoch 467/500, Loss: 0.7904, Accuracy: 68.30%\n",
      "Epoch 468/500, Loss: 0.8043, Accuracy: 67.42%\n",
      "Epoch 469/500, Loss: 0.7857, Accuracy: 67.63%\n",
      "Epoch 470/500, Loss: 0.7907, Accuracy: 67.87%\n",
      "Epoch 471/500, Loss: 0.7820, Accuracy: 68.62%\n",
      "Epoch 472/500, Loss: 0.7888, Accuracy: 68.04%\n",
      "Epoch 473/500, Loss: 0.8003, Accuracy: 67.07%\n",
      "Epoch 474/500, Loss: 0.8108, Accuracy: 66.86%\n",
      "Epoch 475/500, Loss: 0.7776, Accuracy: 68.83%\n",
      "Epoch 476/500, Loss: 0.7913, Accuracy: 67.80%\n",
      "Epoch 477/500, Loss: 0.7822, Accuracy: 68.60%\n",
      "Epoch 478/500, Loss: 0.7799, Accuracy: 67.72%\n",
      "Epoch 479/500, Loss: 0.8047, Accuracy: 66.82%\n",
      "Epoch 480/500, Loss: 0.7931, Accuracy: 67.87%\n",
      "Epoch 481/500, Loss: 0.7934, Accuracy: 67.48%\n",
      "Epoch 482/500, Loss: 0.7941, Accuracy: 68.15%\n",
      "Epoch 483/500, Loss: 0.7804, Accuracy: 68.10%\n",
      "Epoch 484/500, Loss: 0.8064, Accuracy: 67.87%\n",
      "Epoch 485/500, Loss: 0.7817, Accuracy: 68.75%\n",
      "Epoch 486/500, Loss: 0.7861, Accuracy: 68.64%\n",
      "Epoch 487/500, Loss: 0.7819, Accuracy: 68.06%\n",
      "Epoch 488/500, Loss: 0.7824, Accuracy: 68.68%\n",
      "Epoch 489/500, Loss: 0.8061, Accuracy: 67.80%\n",
      "Epoch 490/500, Loss: 0.7883, Accuracy: 68.57%\n",
      "Epoch 491/500, Loss: 0.7905, Accuracy: 68.06%\n",
      "Epoch 492/500, Loss: 0.7855, Accuracy: 68.45%\n",
      "Epoch 493/500, Loss: 0.7764, Accuracy: 68.55%\n",
      "Epoch 494/500, Loss: 0.7816, Accuracy: 68.94%\n",
      "Epoch 495/500, Loss: 0.8030, Accuracy: 67.37%\n",
      "Epoch 496/500, Loss: 0.7985, Accuracy: 67.78%\n",
      "Epoch 497/500, Loss: 0.7860, Accuracy: 68.30%\n",
      "Epoch 498/500, Loss: 0.7901, Accuracy: 67.48%\n",
      "Epoch 499/500, Loss: 0.8013, Accuracy: 67.55%\n",
      "Epoch 500/500, Loss: 0.7853, Accuracy: 68.00%\n",
      "Average Loss: 0.7852952483127099\n",
      "Highest Train Accuracy:68.94\n"
     ]
    }
   ],
   "source": [
    "eegnet_model = EEGNetModel().to(device)\n",
    "\n",
    "# Training Hyperparameters\n",
    "EPOCHS = 500\n",
    "BATCH_SIZE = 64\n",
    "LEARNING_RATE = 0.001\n",
    "trainer = TrainModel()\n",
    "trained_eegnet_model = trainer.train_model(eegnet_model, train_dataset, learning_rate=LEARNING_RATE,\n",
    "                                   batch_size=BATCH_SIZE, epochs=EPOCHS)\n",
    "torch.save(trained_eegnet_model.state_dict(), 'eegnet_model.pth')\n"
   ]
  },
  {
   "cell_type": "code",
   "execution_count": null,
   "metadata": {},
   "outputs": [],
   "source": []
  },
  {
   "cell_type": "markdown",
   "metadata": {
    "id": "-3fKnNHxDKwn"
   },
   "source": [
    "##Evaluating Model"
   ]
  },
  {
   "cell_type": "code",
   "execution_count": 27,
   "metadata": {
    "colab": {
     "base_uri": "https://localhost:8080/",
     "height": 693
    },
    "id": "aHsstvZSDLb1",
    "outputId": "0c055e05-b0cc-4217-b8fb-57981ca06677"
   },
   "outputs": [
    {
     "name": "stdout",
     "output_type": "stream",
     "text": [
      "/------------------------------/\n",
      "Test Accuracy: 75.53%\n",
      "/------------------------------/\n"
     ]
    },
    {
     "data": {
      "image/png": "[encoded data removed]",
      "text/plain": [
       "<Figure size 1000x700 with 2 Axes>"
      ]
     },
     "metadata": {},
     "output_type": "display_data"
    }
   ],
   "source": [
    "classes_list = ['Left', 'Right', 'Foot', 'Tongue']\n",
    "eval_model = EvalModel(trained_eegnet_model)\n",
    "test_accuracy = eval_model.test_model(test_dataset)\n",
    "eval_model.plot_confusion_matrix(test_dataset, classes_list)\n"
   ]
  },
  {
   "cell_type": "markdown",
   "metadata": {
    "id": "x8T_bAKxEu3T"
   },
   "source": [
    "#MSTANN Model"
   ]
  },
  {
   "cell_type": "code",
   "execution_count": 28,
   "metadata": {
    "id": "rwhu1U1sExPU"
   },
   "outputs": [],
   "source": [
    "class MSM(nn.Module): # Multi-Scale Module\n",
    "    def __init__(self, chans=22, time_points=1001, f1=36, f2=54, f3=108, f4=216):\n",
    "        super(MSM, self).__init__()\n",
    "        self.conv1 = nn.Conv1d(chans, f1, kernel_size=3, padding='same')\n",
    "        self.conv2 = nn.Conv1d(chans, f1, kernel_size=11, padding='same')\n",
    "        self.conv3 = nn.Conv1d(chans, f1, kernel_size=19, padding='same')\n",
    "        self.conv4 = nn.Conv1d(f3, f2, kernel_size=1, padding='same')\n",
    "        self.conv5 = nn.Conv1d(f4, f3, kernel_size=1, padding='same')\n",
    "        self.mp1 = nn.MaxPool1d(kernel_size=7, stride=2, padding=3)\n",
    "        self.mp2 = nn.MaxPool1d(kernel_size=19, stride=2, padding=9)\n",
    "        self.mp3 = nn.MaxPool1d(kernel_size=31, stride=2, padding=15)\n",
    "\n",
    "    def forward(self, x):\n",
    "        # Parallel Convs\n",
    "        conv1_out = self.conv1(x)\n",
    "        temporal_features1 = conv1_out\n",
    "        conv2_out = self.conv2(x)\n",
    "        temporal_features2 = conv2_out\n",
    "        conv3_out = self.conv3(x)\n",
    "        temporal_features3 = conv3_out\n",
    "        convs_cat = torch.cat([conv1_out, conv2_out, conv3_out], dim=1)\n",
    "        convs_cat_t = torch.cat([conv1_out, conv2_out, conv3_out], dim=1).permute(0,2,1)\n",
    "        temporal_features_cat1 = convs_cat_t\n",
    "        # Max Poolings\n",
    "        mp1 = self.mp1(convs_cat_t).permute(0,2,1)\n",
    "        mp2 = self.mp2(convs_cat_t).permute(0,2,1)\n",
    "        mp3 = self.mp3(convs_cat_t).permute(0,2,1)\n",
    "        # Second Concat\n",
    "        conv4_out = self.conv4(convs_cat)\n",
    "        temporal_features4 = conv4_out\n",
    "        convs_cat2 = torch.cat([mp1, mp2, mp3, conv4_out], dim=1)\n",
    "        temporal_features_cat2 = convs_cat2\n",
    "        out = self.conv5(convs_cat2)\n",
    "        temporal_features_total = out\n",
    "        temporal_features = [temporal_features1, temporal_features2, temporal_features3,\n",
    "                            temporal_features4, temporal_features_cat1, temporal_features_cat2,\n",
    "                            temporal_features_total]\n",
    "        return out, temporal_features\n",
    "class ResidualModule(nn.Module):\n",
    "    def __init__(self, f1=108, f2=54):\n",
    "        super(ResidualModule, self).__init__()\n",
    "\n",
    "        self.block1 = nn.Sequential(\n",
    "            nn.Conv1d(f1, f2, kernel_size=1, padding=0), # Conv6\n",
    "            nn.BatchNorm1d(f2),\n",
    "            nn.ReLU()\n",
    "        )\n",
    "        self.block2 = nn.Sequential(\n",
    "            nn.Conv1d(f2, f1, kernel_size=3, padding=1), # Conv7\n",
    "            nn.BatchNorm1d(f1),\n",
    "            nn.ReLU()\n",
    "        )\n",
    "        self.block3 = nn.Sequential(\n",
    "            nn.Conv1d(f1, f2, kernel_size=1, padding=0), # Conv8\n",
    "            nn.BatchNorm1d(f2),\n",
    "            nn.ReLU()\n",
    "        )\n",
    "        self.block4 = nn.Sequential(\n",
    "            nn.Conv1d(f2, f1, kernel_size=3, padding=1), # Conv9\n",
    "            nn.BatchNorm1d(f1),\n",
    "        )\n",
    "        self.relu = nn.ReLU()\n",
    "\n",
    "    def forward(self, x):\n",
    "        residual = x\n",
    "        # Sequential Convs\n",
    "        x = self.block1(x)  # Conv6\n",
    "        x = self.block2(x)  # Conv7\n",
    "        x = self.block3(x)  # Conv8\n",
    "        x = self.block4(x)  # Conv9\n",
    "\n",
    "        # Residual Connection\n",
    "        x += residual\n",
    "        x = self.relu(x)\n",
    "        return x\n",
    "\n",
    "class CTAM(nn.Module):\n",
    "    def __init__(self, f1=216, linear_size=108, time_points=1001):\n",
    "        super(CTAM, self).__init__()\n",
    "        # Channel Attention Module(CAM)\n",
    "        self.cam_maxpool = nn.Sequential(\n",
    "            nn.MaxPool1d(kernel_size=1),\n",
    "            nn.Flatten(),\n",
    "            nn.Linear(linear_size*time_points, linear_size),\n",
    "            nn.ReLU(),\n",
    "            nn.Linear(linear_size, linear_size),\n",
    "        )\n",
    "        self.cam_avgpool = nn.Sequential(\n",
    "            nn.AvgPool1d(kernel_size=1),\n",
    "            nn.Flatten(),\n",
    "            nn.Linear(linear_size*time_points, linear_size),\n",
    "            nn.ReLU(),\n",
    "            nn.Linear(linear_size, linear_size),\n",
    "        )\n",
    "\n",
    "        # Temporal Attention Module(TAM)\n",
    "        self.tam_maxpool = nn.MaxPool1d(kernel_size=1)\n",
    "        self.tam_avgpool = nn.AvgPool1d(kernel_size=1)\n",
    "        self.tam_conv = nn.Conv1d(f1, 1, kernel_size=7, padding=3)\n",
    "        self.sigmoid = nn.Sigmoid()\n",
    "\n",
    "    def forward(self, x):\n",
    "        # CAM operations\n",
    "        cam_maxpool_out = self.cam_maxpool(x)\n",
    "        cam_avgpool_out = self.cam_avgpool(x)\n",
    "        cam_pool_out = self.sigmoid(cam_maxpool_out + cam_avgpool_out).unsqueeze(2)\n",
    "        cam_out = x * cam_pool_out\n",
    "        # TAM operations\n",
    "        tam_maxpool_out = self.tam_maxpool(cam_out)\n",
    "        tam_avgpool_out = self.tam_avgpool(cam_out)\n",
    "        tam_cat = torch.cat((tam_avgpool_out, tam_maxpool_out), dim=1)\n",
    "        tam_conv_out = self.tam_conv(tam_cat)\n",
    "        tam_out = self.sigmoid(tam_conv_out)\n",
    "        tam_out_expanded = tam_out.expand(-1, 108, -1)\n",
    "        ctam_out = tam_out_expanded * cam_out\n",
    "        return ctam_out\n",
    "\n",
    "\n",
    "class MSCTANNModel(nn.Module):\n",
    "    def __init__(self, chans=22, f1=36, f2=54, f3=108, f4=216,\n",
    "                 classes=4, time_points=1001, dropout_rate=0.4):\n",
    "        super(MSCTANNModel, self).__init__()\n",
    "        linear_size = f3*time_points\n",
    "        self.classes = classes\n",
    "        self.msm = MSM(chans=chans,time_points=time_points, f1=f1, f2=f2, f3=f3, f4=f4)\n",
    "        self.residual_module = ResidualModule(f1=f3, f2=f2)\n",
    "        self.ctam = CTAM(f1=f4, linear_size=f3, time_points=time_points)\n",
    "        self.flatten = nn.Flatten()\n",
    "        self.dropout = nn.Dropout(dropout_rate)\n",
    "        self.fc = nn.Linear(linear_size, classes)\n",
    "    def forward(self, x):\n",
    "        x = x.squeeze(1) # Reducing Input dim from 4 to 3\n",
    "        x, temporal_features = self.msm(x)\n",
    "        x = self.residual_module(x)\n",
    "        x = self.ctam(x)\n",
    "        x = self.flatten(x)\n",
    "        x = self.fc(x)\n",
    "        x = self.dropout(x)\n",
    "        return x, temporal_features\n"
   ]
  },
  {
   "cell_type": "markdown",
   "metadata": {
    "id": "7F1-smxGExft"
   },
   "source": [
    "##Model Summery"
   ]
  },
  {
   "cell_type": "code",
   "execution_count": 29,
   "metadata": {
    "colab": {
     "base_uri": "https://localhost:8080/"
    },
    "id": "FJyHE1XtFm-p",
    "outputId": "47ba18f4-b6a9-409c-b0aa-d1adc4129bb9"
   },
   "outputs": [
    {
     "name": "stdout",
     "output_type": "stream",
     "text": [
      "==========================================================================================\n",
      "Layer (type:depth-idx)                   Output Shape              Param #\n",
      "==========================================================================================\n",
      "├─MSM: 1-1                               [-1, 108, 1001]           --\n",
      "|    └─Conv1d: 2-1                       [-1, 36, 1001]            2,412\n",
      "|    └─Conv1d: 2-2                       [-1, 36, 1001]            8,748\n",
      "|    └─Conv1d: 2-3                       [-1, 36, 1001]            15,084\n",
      "|    └─MaxPool1d: 2-4                    [-1, 1001, 54]            --\n",
      "|    └─MaxPool1d: 2-5                    [-1, 1001, 54]            --\n",
      "|    └─MaxPool1d: 2-6                    [-1, 1001, 54]            --\n",
      "|    └─Conv1d: 2-7                       [-1, 54, 1001]            5,886\n",
      "|    └─Conv1d: 2-8                       [-1, 108, 1001]           23,436\n",
      "├─ResidualModule: 1-2                    [-1, 108, 1001]           --\n",
      "|    └─Sequential: 2-9                   [-1, 54, 1001]            --\n",
      "|    |    └─Conv1d: 3-1                  [-1, 54, 1001]            5,886\n",
      "|    |    └─BatchNorm1d: 3-2             [-1, 54, 1001]            108\n",
      "|    |    └─ReLU: 3-3                    [-1, 54, 1001]            --\n",
      "|    └─Sequential: 2-10                  [-1, 108, 1001]           --\n",
      "|    |    └─Conv1d: 3-4                  [-1, 108, 1001]           17,604\n",
      "|    |    └─BatchNorm1d: 3-5             [-1, 108, 1001]           216\n",
      "|    |    └─ReLU: 3-6                    [-1, 108, 1001]           --\n",
      "|    └─Sequential: 2-11                  [-1, 54, 1001]            --\n",
      "|    |    └─Conv1d: 3-7                  [-1, 54, 1001]            5,886\n",
      "|    |    └─BatchNorm1d: 3-8             [-1, 54, 1001]            108\n",
      "|    |    └─ReLU: 3-9                    [-1, 54, 1001]            --\n",
      "|    └─Sequential: 2-12                  [-1, 108, 1001]           --\n",
      "|    |    └─Conv1d: 3-10                 [-1, 108, 1001]           17,604\n",
      "|    |    └─BatchNorm1d: 3-11            [-1, 108, 1001]           216\n",
      "|    └─ReLU: 2-13                        [-1, 108, 1001]           --\n",
      "├─CTAM: 1-3                              [-1, 108, 1001]           --\n",
      "|    └─Sequential: 2-14                  [-1, 108]                 --\n",
      "|    |    └─MaxPool1d: 3-12              [-1, 108, 1001]           --\n",
      "|    |    └─Flatten: 3-13                [-1, 108108]              --\n",
      "|    |    └─Linear: 3-14                 [-1, 108]                 11,675,772\n",
      "|    |    └─ReLU: 3-15                   [-1, 108]                 --\n",
      "|    |    └─Linear: 3-16                 [-1, 108]                 11,772\n",
      "|    └─Sequential: 2-15                  [-1, 108]                 --\n",
      "|    |    └─AvgPool1d: 3-17              [-1, 108, 1001]           --\n",
      "|    |    └─Flatten: 3-18                [-1, 108108]              --\n",
      "|    |    └─Linear: 3-19                 [-1, 108]                 11,675,772\n",
      "|    |    └─ReLU: 3-20                   [-1, 108]                 --\n",
      "|    |    └─Linear: 3-21                 [-1, 108]                 11,772\n",
      "|    └─Sigmoid: 2-16                     [-1, 108]                 --\n",
      "|    └─MaxPool1d: 2-17                   [-1, 108, 1001]           --\n",
      "|    └─AvgPool1d: 2-18                   [-1, 108, 1001]           --\n",
      "|    └─Conv1d: 2-19                      [-1, 1, 1001]             1,513\n",
      "|    └─Sigmoid: 2-20                     [-1, 1, 1001]             --\n",
      "├─Flatten: 1-4                           [-1, 108108]              --\n",
      "├─Linear: 1-5                            [-1, 4]                   432,436\n",
      "├─Dropout: 1-6                           [-1, 4]                   --\n",
      "==========================================================================================\n",
      "Total params: 23,912,231\n",
      "Trainable params: 23,912,231\n",
      "Non-trainable params: 0\n",
      "Total mult-adds (M): 174.27\n",
      "==========================================================================================\n",
      "Input size (MB): 0.08\n",
      "Forward/backward pass size (MB): 7.02\n",
      "Params size (MB): 91.22\n",
      "Estimated Total Size (MB): 98.32\n",
      "==========================================================================================\n"
     ]
    },
    {
     "data": {
      "text/plain": [
       "==========================================================================================\n",
       "Layer (type:depth-idx)                   Output Shape              Param #\n",
       "==========================================================================================\n",
       "├─MSM: 1-1                               [-1, 108, 1001]           --\n",
       "|    └─Conv1d: 2-1                       [-1, 36, 1001]            2,412\n",
       "|    └─Conv1d: 2-2                       [-1, 36, 1001]            8,748\n",
       "|    └─Conv1d: 2-3                       [-1, 36, 1001]            15,084\n",
       "|    └─MaxPool1d: 2-4                    [-1, 1001, 54]            --\n",
       "|    └─MaxPool1d: 2-5                    [-1, 1001, 54]            --\n",
       "|    └─MaxPool1d: 2-6                    [-1, 1001, 54]            --\n",
       "|    └─Conv1d: 2-7                       [-1, 54, 1001]            5,886\n",
       "|    └─Conv1d: 2-8                       [-1, 108, 1001]           23,436\n",
       "├─ResidualModule: 1-2                    [-1, 108, 1001]           --\n",
       "|    └─Sequential: 2-9                   [-1, 54, 1001]            --\n",
       "|    |    └─Conv1d: 3-1                  [-1, 54, 1001]            5,886\n",
       "|    |    └─BatchNorm1d: 3-2             [-1, 54, 1001]            108\n",
       "|    |    └─ReLU: 3-3                    [-1, 54, 1001]            --\n",
       "|    └─Sequential: 2-10                  [-1, 108, 1001]           --\n",
       "|    |    └─Conv1d: 3-4                  [-1, 108, 1001]           17,604\n",
       "|    |    └─BatchNorm1d: 3-5             [-1, 108, 1001]           216\n",
       "|    |    └─ReLU: 3-6                    [-1, 108, 1001]           --\n",
       "|    └─Sequential: 2-11                  [-1, 54, 1001]            --\n",
       "|    |    └─Conv1d: 3-7                  [-1, 54, 1001]            5,886\n",
       "|    |    └─BatchNorm1d: 3-8             [-1, 54, 1001]            108\n",
       "|    |    └─ReLU: 3-9                    [-1, 54, 1001]            --\n",
       "|    └─Sequential: 2-12                  [-1, 108, 1001]           --\n",
       "|    |    └─Conv1d: 3-10                 [-1, 108, 1001]           17,604\n",
       "|    |    └─BatchNorm1d: 3-11            [-1, 108, 1001]           216\n",
       "|    └─ReLU: 2-13                        [-1, 108, 1001]           --\n",
       "├─CTAM: 1-3                              [-1, 108, 1001]           --\n",
       "|    └─Sequential: 2-14                  [-1, 108]                 --\n",
       "|    |    └─MaxPool1d: 3-12              [-1, 108, 1001]           --\n",
       "|    |    └─Flatten: 3-13                [-1, 108108]              --\n",
       "|    |    └─Linear: 3-14                 [-1, 108]                 11,675,772\n",
       "|    |    └─ReLU: 3-15                   [-1, 108]                 --\n",
       "|    |    └─Linear: 3-16                 [-1, 108]                 11,772\n",
       "|    └─Sequential: 2-15                  [-1, 108]                 --\n",
       "|    |    └─AvgPool1d: 3-17              [-1, 108, 1001]           --\n",
       "|    |    └─Flatten: 3-18                [-1, 108108]              --\n",
       "|    |    └─Linear: 3-19                 [-1, 108]                 11,675,772\n",
       "|    |    └─ReLU: 3-20                   [-1, 108]                 --\n",
       "|    |    └─Linear: 3-21                 [-1, 108]                 11,772\n",
       "|    └─Sigmoid: 2-16                     [-1, 108]                 --\n",
       "|    └─MaxPool1d: 2-17                   [-1, 108, 1001]           --\n",
       "|    └─AvgPool1d: 2-18                   [-1, 108, 1001]           --\n",
       "|    └─Conv1d: 2-19                      [-1, 1, 1001]             1,513\n",
       "|    └─Sigmoid: 2-20                     [-1, 1, 1001]             --\n",
       "├─Flatten: 1-4                           [-1, 108108]              --\n",
       "├─Linear: 1-5                            [-1, 4]                   432,436\n",
       "├─Dropout: 1-6                           [-1, 4]                   --\n",
       "==========================================================================================\n",
       "Total params: 23,912,231\n",
       "Trainable params: 23,912,231\n",
       "Non-trainable params: 0\n",
       "Total mult-adds (M): 174.27\n",
       "==========================================================================================\n",
       "Input size (MB): 0.08\n",
       "Forward/backward pass size (MB): 7.02\n",
       "Params size (MB): 91.22\n",
       "Estimated Total Size (MB): 98.32\n",
       "=========================================================================================="
      ]
     },
     "execution_count": 29,
     "metadata": {},
     "output_type": "execute_result"
    }
   ],
   "source": [
    "input_size = (1, 22, 1001)\n",
    "msctaan_model = MSCTANNModel().to(device)\n",
    "summary(msctaan_model, input_size)"
   ]
  },
  {
   "cell_type": "markdown",
   "metadata": {
    "id": "Q0wNQ0O8FnZ6"
   },
   "source": [
    "##Training Model"
   ]
  },
  {
   "cell_type": "code",
   "execution_count": 31,
   "metadata": {
    "colab": {
     "base_uri": "https://localhost:8080/"
    },
    "id": "TJIFwYu5FsSc",
    "outputId": "7ed6229f-7ea1-472c-d8e2-deeef43bcc49"
   },
   "outputs": [
    {
     "name": "stdout",
     "output_type": "stream",
     "text": [
      "Epoch 1/200, Loss: 1.5141, Accuracy: 27.22%\n",
      "Epoch 2/200, Loss: 1.3645, Accuracy: 30.78%\n",
      "Epoch 3/200, Loss: 1.3128, Accuracy: 36.44%\n",
      "Epoch 4/200, Loss: 1.2429, Accuracy: 42.51%\n",
      "Epoch 5/200, Loss: 1.1467, Accuracy: 47.37%\n",
      "Epoch 6/200, Loss: 1.0596, Accuracy: 52.50%\n",
      "Epoch 7/200, Loss: 0.9275, Accuracy: 58.82%\n",
      "Epoch 8/200, Loss: 0.8100, Accuracy: 62.53%\n",
      "Epoch 9/200, Loss: 0.7118, Accuracy: 67.50%\n",
      "Epoch 10/200, Loss: 0.6222, Accuracy: 70.72%\n",
      "Epoch 11/200, Loss: 0.5392, Accuracy: 74.28%\n",
      "Epoch 12/200, Loss: 0.5037, Accuracy: 74.75%\n",
      "Epoch 13/200, Loss: 0.4339, Accuracy: 77.15%\n",
      "Epoch 14/200, Loss: 0.4427, Accuracy: 77.51%\n",
      "Epoch 15/200, Loss: 0.3917, Accuracy: 78.82%\n",
      "Epoch 16/200, Loss: 0.4029, Accuracy: 78.05%\n",
      "Epoch 17/200, Loss: 0.4002, Accuracy: 78.46%\n",
      "Epoch 18/200, Loss: 0.3543, Accuracy: 79.61%\n",
      "Epoch 19/200, Loss: 0.3635, Accuracy: 78.56%\n",
      "Epoch 20/200, Loss: 0.3741, Accuracy: 79.34%\n",
      "Epoch 21/200, Loss: 0.3800, Accuracy: 78.24%\n",
      "Epoch 22/200, Loss: 0.3456, Accuracy: 79.81%\n",
      "Epoch 23/200, Loss: 0.3538, Accuracy: 79.49%\n",
      "Epoch 24/200, Loss: 0.3405, Accuracy: 80.39%\n",
      "Epoch 25/200, Loss: 0.3312, Accuracy: 80.36%\n",
      "Epoch 26/200, Loss: 0.3293, Accuracy: 80.09%\n",
      "Epoch 27/200, Loss: 0.3282, Accuracy: 80.60%\n",
      "Epoch 28/200, Loss: 0.3498, Accuracy: 80.11%\n",
      "Epoch 29/200, Loss: 0.3209, Accuracy: 80.75%\n",
      "Epoch 30/200, Loss: 0.3363, Accuracy: 80.34%\n",
      "Epoch 31/200, Loss: 0.3477, Accuracy: 79.59%\n",
      "Epoch 32/200, Loss: 0.3434, Accuracy: 80.26%\n",
      "Epoch 33/200, Loss: 0.3432, Accuracy: 80.06%\n",
      "Epoch 34/200, Loss: 0.3399, Accuracy: 80.26%\n",
      "Epoch 35/200, Loss: 0.3277, Accuracy: 81.20%\n",
      "Epoch 36/200, Loss: 0.3297, Accuracy: 80.71%\n",
      "Epoch 37/200, Loss: 0.3343, Accuracy: 81.29%\n",
      "Epoch 38/200, Loss: 0.3224, Accuracy: 80.32%\n",
      "Epoch 39/200, Loss: 0.3209, Accuracy: 80.66%\n",
      "Epoch 40/200, Loss: 0.3207, Accuracy: 81.26%\n",
      "Epoch 41/200, Loss: 0.3201, Accuracy: 79.70%\n",
      "Epoch 42/200, Loss: 0.3015, Accuracy: 81.35%\n",
      "Epoch 43/200, Loss: 0.3047, Accuracy: 81.14%\n",
      "Epoch 44/200, Loss: 0.3152, Accuracy: 80.64%\n",
      "Epoch 45/200, Loss: 0.3188, Accuracy: 80.54%\n",
      "Epoch 46/200, Loss: 0.3150, Accuracy: 81.24%\n",
      "Epoch 47/200, Loss: 0.3324, Accuracy: 80.09%\n",
      "Epoch 48/200, Loss: 0.3325, Accuracy: 80.69%\n",
      "Epoch 49/200, Loss: 0.3360, Accuracy: 80.04%\n",
      "Epoch 50/200, Loss: 0.3186, Accuracy: 81.09%\n",
      "Epoch 51/200, Loss: 0.3136, Accuracy: 81.07%\n",
      "Epoch 52/200, Loss: 0.3215, Accuracy: 81.11%\n",
      "Epoch 53/200, Loss: 0.3202, Accuracy: 80.96%\n",
      "Epoch 54/200, Loss: 0.3279, Accuracy: 80.51%\n",
      "Epoch 55/200, Loss: 0.3054, Accuracy: 82.12%\n",
      "Epoch 56/200, Loss: 0.3257, Accuracy: 80.73%\n",
      "Epoch 57/200, Loss: 0.3325, Accuracy: 79.83%\n",
      "Epoch 58/200, Loss: 0.3256, Accuracy: 80.96%\n",
      "Epoch 59/200, Loss: 0.3123, Accuracy: 81.24%\n",
      "Epoch 60/200, Loss: 0.3110, Accuracy: 80.90%\n",
      "Epoch 61/200, Loss: 0.3215, Accuracy: 80.51%\n",
      "Epoch 62/200, Loss: 0.3053, Accuracy: 81.65%\n",
      "Epoch 63/200, Loss: 0.2897, Accuracy: 82.29%\n",
      "Epoch 64/200, Loss: 0.3049, Accuracy: 81.29%\n",
      "Epoch 65/200, Loss: 0.2890, Accuracy: 82.14%\n",
      "Epoch 66/200, Loss: 0.3053, Accuracy: 80.71%\n",
      "Epoch 67/200, Loss: 0.3198, Accuracy: 80.43%\n",
      "Epoch 68/200, Loss: 0.3308, Accuracy: 80.32%\n",
      "Epoch 69/200, Loss: 0.3186, Accuracy: 81.41%\n",
      "Epoch 70/200, Loss: 0.3231, Accuracy: 80.64%\n",
      "Epoch 71/200, Loss: 0.3325, Accuracy: 80.11%\n",
      "Epoch 72/200, Loss: 0.3334, Accuracy: 80.30%\n",
      "Epoch 73/200, Loss: 0.3237, Accuracy: 80.88%\n",
      "Epoch 74/200, Loss: 0.3287, Accuracy: 80.47%\n",
      "Epoch 75/200, Loss: 0.3184, Accuracy: 81.48%\n",
      "Epoch 76/200, Loss: 0.3079, Accuracy: 80.92%\n",
      "Epoch 77/200, Loss: 0.2923, Accuracy: 81.65%\n",
      "Epoch 78/200, Loss: 0.2914, Accuracy: 80.94%\n",
      "Epoch 79/200, Loss: 0.2897, Accuracy: 82.25%\n",
      "Epoch 80/200, Loss: 0.3152, Accuracy: 80.41%\n",
      "Epoch 81/200, Loss: 0.3346, Accuracy: 79.74%\n",
      "Epoch 82/200, Loss: 0.3488, Accuracy: 79.01%\n",
      "Epoch 83/200, Loss: 0.3560, Accuracy: 79.36%\n",
      "Epoch 84/200, Loss: 0.3273, Accuracy: 80.21%\n",
      "Epoch 85/200, Loss: 0.3127, Accuracy: 81.50%\n",
      "Epoch 86/200, Loss: 0.3548, Accuracy: 79.53%\n",
      "Epoch 87/200, Loss: 0.3248, Accuracy: 80.51%\n",
      "Epoch 88/200, Loss: 0.3132, Accuracy: 80.99%\n",
      "Epoch 89/200, Loss: 0.2966, Accuracy: 80.62%\n",
      "Epoch 90/200, Loss: 0.3040, Accuracy: 80.92%\n",
      "Epoch 91/200, Loss: 0.2863, Accuracy: 82.40%\n",
      "Epoch 92/200, Loss: 0.3030, Accuracy: 80.69%\n",
      "Epoch 93/200, Loss: 0.2871, Accuracy: 83.13%\n",
      "Epoch 94/200, Loss: 0.2930, Accuracy: 81.33%\n",
      "Epoch 95/200, Loss: 0.3194, Accuracy: 80.66%\n",
      "Epoch 96/200, Loss: 0.3163, Accuracy: 81.01%\n",
      "Epoch 97/200, Loss: 0.3039, Accuracy: 81.03%\n",
      "Epoch 98/200, Loss: 0.3272, Accuracy: 80.81%\n",
      "Epoch 99/200, Loss: 0.3515, Accuracy: 80.09%\n",
      "Epoch 100/200, Loss: 0.3292, Accuracy: 79.76%\n",
      "Epoch 101/200, Loss: 0.3221, Accuracy: 80.15%\n",
      "Epoch 102/200, Loss: 0.3023, Accuracy: 81.39%\n",
      "Epoch 103/200, Loss: 0.2971, Accuracy: 81.69%\n",
      "Epoch 104/200, Loss: 0.3063, Accuracy: 81.31%\n",
      "Epoch 105/200, Loss: 0.3172, Accuracy: 80.71%\n",
      "Epoch 106/200, Loss: 0.2965, Accuracy: 80.81%\n",
      "Epoch 107/200, Loss: 0.2794, Accuracy: 82.36%\n",
      "Epoch 108/200, Loss: 0.2959, Accuracy: 81.31%\n",
      "Epoch 109/200, Loss: 0.2807, Accuracy: 81.97%\n",
      "Epoch 110/200, Loss: 0.3225, Accuracy: 80.30%\n",
      "Epoch 111/200, Loss: 0.3209, Accuracy: 81.33%\n",
      "Epoch 112/200, Loss: 0.3200, Accuracy: 80.60%\n",
      "Epoch 113/200, Loss: 0.3468, Accuracy: 79.74%\n",
      "Epoch 114/200, Loss: 0.3358, Accuracy: 80.60%\n",
      "Epoch 115/200, Loss: 0.3316, Accuracy: 80.54%\n",
      "Epoch 116/200, Loss: 0.3075, Accuracy: 81.48%\n",
      "Epoch 117/200, Loss: 0.3476, Accuracy: 80.26%\n",
      "Epoch 118/200, Loss: 0.3279, Accuracy: 81.03%\n",
      "Epoch 119/200, Loss: 0.3191, Accuracy: 80.43%\n",
      "Epoch 120/200, Loss: 0.3056, Accuracy: 80.69%\n",
      "Epoch 121/200, Loss: 0.2816, Accuracy: 82.62%\n",
      "Epoch 122/200, Loss: 0.2992, Accuracy: 81.14%\n",
      "Epoch 123/200, Loss: 0.3130, Accuracy: 80.66%\n",
      "Epoch 124/200, Loss: 0.2999, Accuracy: 81.18%\n",
      "Epoch 125/200, Loss: 0.2960, Accuracy: 81.65%\n",
      "Epoch 126/200, Loss: 0.2998, Accuracy: 81.07%\n",
      "Epoch 127/200, Loss: 0.3023, Accuracy: 80.69%\n",
      "Epoch 128/200, Loss: 0.3080, Accuracy: 81.03%\n",
      "Epoch 129/200, Loss: 0.2894, Accuracy: 82.36%\n",
      "Epoch 130/200, Loss: 0.3123, Accuracy: 81.69%\n",
      "Epoch 131/200, Loss: 0.3014, Accuracy: 81.67%\n",
      "Epoch 132/200, Loss: 0.2962, Accuracy: 82.02%\n",
      "Epoch 133/200, Loss: 0.3086, Accuracy: 80.86%\n",
      "Epoch 134/200, Loss: 0.2995, Accuracy: 81.33%\n",
      "Epoch 135/200, Loss: 0.2944, Accuracy: 81.67%\n",
      "Epoch 136/200, Loss: 0.3145, Accuracy: 80.99%\n",
      "Epoch 137/200, Loss: 0.3081, Accuracy: 81.33%\n",
      "Epoch 138/200, Loss: 0.3111, Accuracy: 80.26%\n",
      "Epoch 139/200, Loss: 0.3080, Accuracy: 81.07%\n",
      "Epoch 140/200, Loss: 0.3127, Accuracy: 81.54%\n",
      "Epoch 141/200, Loss: 0.3250, Accuracy: 80.09%\n",
      "Epoch 142/200, Loss: 0.3130, Accuracy: 81.78%\n",
      "Epoch 143/200, Loss: 0.3166, Accuracy: 80.64%\n",
      "Epoch 144/200, Loss: 0.3075, Accuracy: 81.26%\n",
      "Epoch 145/200, Loss: 0.3068, Accuracy: 81.56%\n",
      "Epoch 146/200, Loss: 0.3040, Accuracy: 81.33%\n",
      "Epoch 147/200, Loss: 0.3007, Accuracy: 80.88%\n",
      "Epoch 148/200, Loss: 0.3065, Accuracy: 81.07%\n",
      "Epoch 149/200, Loss: 0.3460, Accuracy: 80.02%\n",
      "Epoch 150/200, Loss: 0.3077, Accuracy: 81.29%\n",
      "Epoch 151/200, Loss: 0.3051, Accuracy: 81.99%\n",
      "Epoch 152/200, Loss: 0.3255, Accuracy: 80.49%\n",
      "Epoch 153/200, Loss: 0.3003, Accuracy: 81.97%\n",
      "Epoch 154/200, Loss: 0.3012, Accuracy: 81.52%\n",
      "Epoch 155/200, Loss: 0.3281, Accuracy: 80.81%\n",
      "Epoch 156/200, Loss: 0.3264, Accuracy: 81.05%\n",
      "Epoch 157/200, Loss: 0.3462, Accuracy: 80.39%\n",
      "Epoch 158/200, Loss: 0.3073, Accuracy: 81.26%\n",
      "Epoch 159/200, Loss: 0.3027, Accuracy: 81.46%\n",
      "Epoch 160/200, Loss: 0.2987, Accuracy: 80.34%\n",
      "Epoch 161/200, Loss: 0.3143, Accuracy: 80.58%\n",
      "Epoch 162/200, Loss: 0.2911, Accuracy: 81.69%\n",
      "Epoch 163/200, Loss: 0.3175, Accuracy: 80.71%\n",
      "Epoch 164/200, Loss: 0.3164, Accuracy: 80.56%\n",
      "Epoch 165/200, Loss: 0.3101, Accuracy: 80.60%\n",
      "Epoch 166/200, Loss: 0.2955, Accuracy: 81.71%\n",
      "Epoch 167/200, Loss: 0.2893, Accuracy: 81.71%\n",
      "Epoch 168/200, Loss: 0.3087, Accuracy: 80.75%\n",
      "Epoch 169/200, Loss: 0.2937, Accuracy: 81.50%\n",
      "Epoch 170/200, Loss: 0.3145, Accuracy: 81.31%\n",
      "Epoch 171/200, Loss: 0.2869, Accuracy: 82.19%\n",
      "Epoch 172/200, Loss: 0.2908, Accuracy: 81.99%\n",
      "Epoch 173/200, Loss: 0.2902, Accuracy: 81.16%\n",
      "Epoch 174/200, Loss: 0.3016, Accuracy: 81.01%\n",
      "Epoch 175/200, Loss: 0.2956, Accuracy: 80.90%\n",
      "Epoch 176/200, Loss: 0.3232, Accuracy: 80.66%\n",
      "Epoch 177/200, Loss: 0.3070, Accuracy: 81.11%\n",
      "Epoch 178/200, Loss: 0.3292, Accuracy: 80.88%\n",
      "Epoch 179/200, Loss: 0.3293, Accuracy: 80.66%\n",
      "Epoch 180/200, Loss: 0.2943, Accuracy: 81.95%\n",
      "Epoch 181/200, Loss: 0.2984, Accuracy: 82.06%\n",
      "Epoch 182/200, Loss: 0.3346, Accuracy: 81.35%\n",
      "Epoch 183/200, Loss: 0.3559, Accuracy: 80.47%\n",
      "Epoch 184/200, Loss: 0.3099, Accuracy: 80.99%\n",
      "Epoch 185/200, Loss: 0.3009, Accuracy: 81.48%\n",
      "Epoch 186/200, Loss: 0.3001, Accuracy: 80.43%\n",
      "Epoch 187/200, Loss: 0.2829, Accuracy: 81.95%\n",
      "Epoch 188/200, Loss: 0.3092, Accuracy: 81.11%\n",
      "Epoch 189/200, Loss: 0.3076, Accuracy: 81.89%\n",
      "Epoch 190/200, Loss: 0.3000, Accuracy: 81.76%\n",
      "Epoch 191/200, Loss: 0.2906, Accuracy: 81.74%\n",
      "Epoch 192/200, Loss: 0.3170, Accuracy: 80.77%\n",
      "Epoch 193/200, Loss: 0.3094, Accuracy: 80.84%\n",
      "Epoch 194/200, Loss: 0.3006, Accuracy: 81.07%\n",
      "Epoch 195/200, Loss: 0.3013, Accuracy: 81.74%\n",
      "Epoch 196/200, Loss: 0.3043, Accuracy: 80.77%\n",
      "Epoch 197/200, Loss: 0.3028, Accuracy: 81.07%\n",
      "Epoch 198/200, Loss: 0.3219, Accuracy: 79.76%\n",
      "Epoch 199/200, Loss: 0.3157, Accuracy: 80.94%\n",
      "Epoch 200/200, Loss: 0.3276, Accuracy: 79.51%\n",
      "Average Loss: 0.3275956045520778\n",
      "Highest Train Accuracy:83.13\n"
     ]
    }
   ],
   "source": [
    "msctaan_model = MSCTANNModel().to(device)\n",
    "\n",
    "# Training Hyperparameters\n",
    "EPOCHS = 200\n",
    "BATCH_SIZE = 64\n",
    "LEARNING_RATE = 0.001\n",
    "trainer = TrainModel()\n",
    "trained_msctaan_model = trainer.train_model(msctaan_model, train_dataset, learning_rate=LEARNING_RATE,\n",
    "                                   batch_size=BATCH_SIZE, epochs=EPOCHS)\n",
    "torch.save(trained_msctaan_model.state_dict(), 'msctaan_model.pth')"
   ]
  },
  {
   "cell_type": "markdown",
   "metadata": {
    "id": "SSJmDY98Fsf5"
   },
   "source": [
    "##Evaluating Model"
   ]
  },
  {
   "cell_type": "code",
   "execution_count": 32,
   "metadata": {
    "colab": {
     "base_uri": "https://localhost:8080/",
     "height": 693
    },
    "id": "Zol5nHGkFw7f",
    "outputId": "407a5c62-fa14-40bc-f0e3-24eec022f55e"
   },
   "outputs": [
    {
     "name": "stdout",
     "output_type": "stream",
     "text": [
      "/------------------------------/\n",
      "Test Accuracy: 30.83%\n",
      "/------------------------------/\n"
     ]
    },
    {
     "data": {
      "image/png": "[encoded data removed]",
      "text/plain": [
       "<Figure size 1000x700 with 2 Axes>"
      ]
     },
     "metadata": {},
     "output_type": "display_data"
    }
   ],
   "source": [
    "classes_list = ['Left', 'Right', 'Foot', 'Tongue']\n",
    "eval_model = EvalModel(trained_msctaan_model)\n",
    "test_accuracy = eval_model.test_model(test_dataset)\n",
    "eval_model.plot_confusion_matrix(test_dataset, classes_list)"
   ]
  },
  {
   "cell_type": "code",
   "execution_count": 37,
   "metadata": {
    "colab": {
     "base_uri": "https://localhost:8080/",
     "height": 36
    },
    "id": "Z18yLWUoi1QU",
    "outputId": "c231a989-3274-4159-a5a6-39ae67ed15bd"
   },
   "outputs": [
    {
     "data": {
      "application/vnd.google.colaboratory.intrinsic+json": {
       "type": "string"
      },
      "text/plain": [
       "'/content/second_session_labels.zip'"
      ]
     },
     "execution_count": 37,
     "metadata": {},
     "output_type": "execute_result"
    }
   ],
   "source": [
    "import shutil\n",
    "\n",
    "# Path to the folder you want to download\n",
    "folder_path = '/content/second_session_labels'\n",
    "\n",
    "# Destination for the zip file\n",
    "zip_path = '/content/second_session_labels.zip'\n",
    "\n",
    "# Compress the folder into a zip file\n",
    "shutil.make_archive(zip_path.replace('.zip', ''), 'zip', folder_path)\n"
   ]
  },
  {
   "cell_type": "code",
   "execution_count": 35,
   "metadata": {
    "colab": {
     "base_uri": "https://localhost:8080/",
     "height": 34
    },
    "id": "9L6TWiFXoFmZ",
    "outputId": "5a77934f-8862-46bc-9b4b-f1e7cb211830"
   },
   "outputs": [
    {
     "data": {
      "application/javascript": "\n    async function download(id, filename, size) {\n      if (!google.colab.kernel.accessAllowed) {\n        return;\n      }\n      const div = document.createElement('div');\n      const label = document.createElement('label');\n      label.textContent = `Downloading \"${filename}\": `;\n      div.appendChild(label);\n      const progress = document.createElement('progress');\n      progress.max = size;\n      div.appendChild(progress);\n      document.body.appendChild(div);\n\n      const buffers = [];\n      let downloaded = 0;\n\n      const channel = await google.colab.kernel.comms.open(id);\n      // Send a message to notify the kernel that we're ready.\n      channel.send({})\n\n      for await (const message of channel.messages) {\n        // Send a message to notify the kernel that we're ready.\n        channel.send({})\n        if (message.buffers) {\n          for (const buffer of message.buffers) {\n            buffers.push(buffer);\n            downloaded += buffer.byteLength;\n            progress.value = downloaded;\n          }\n        }\n      }\n      const blob = new Blob(buffers, {type: 'application/binary'});\n      const a = document.createElement('a');\n      a.href = window.URL.createObjectURL(blob);\n      a.download = filename;\n      div.appendChild(a);\n      a.click();\n      div.remove();\n    }\n  ",
      "text/plain": [
       "<IPython.core.display.Javascript object>"
      ]
     },
     "metadata": {},
     "output_type": "display_data"
    },
    {
     "data": {
      "application/javascript": "download(\"download_750f0704-49e2-4e31-a996-94797fc42feb\", \"cleanded_data.zip\", 1968739641)",
      "text/plain": [
       "<IPython.core.display.Javascript object>"
      ]
     },
     "metadata": {},
     "output_type": "display_data"
    }
   ],
   "source": [
    "from google.colab import files\n",
    "\n",
    "# Download the zip file\n",
    "files.download(zip_path)\n"
   ]
  },
  {
   "cell_type": "code",
   "execution_count": null,
   "metadata": {
    "id": "6hQU-ReZo6Va"
   },
   "outputs": [],
   "source": []
  }
 ],
 "metadata": {
  "accelerator": "GPU",
  "colab": {
   "collapsed_sections": [
    "xyXDZiZ4E4a_",
    "7F1-smxGExft",
    "Q0wNQ0O8FnZ6",
    "SSJmDY98Fsf5"
   ],
   "gpuType": "T4",
   "provenance": []
  },
  "kernelspec": {
   "display_name": "Python 3",
   "name": "python3"
  },
  "language_info": {
   "name": "python"
  }
 },
 "nbformat": 4,
 "nbformat_minor": 0
}
